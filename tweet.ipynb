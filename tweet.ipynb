{
 "cells": [
  {
   "cell_type": "code",
   "execution_count": null,
   "metadata": {},
   "outputs": [],
   "source": [
    "import pandas as pd\n",
    "import folium\n",
    "from sklearn.cluster import DBSCAN"
   ]
  },
  {
   "cell_type": "code",
   "execution_count": null,
   "metadata": {},
   "outputs": [],
   "source": [
    "# Load tweets csv file\n",
    "tweets = pd.read_csv('data/SE3B2D~1.csv')"
   ]
  },
  {
   "cell_type": "code",
   "execution_count": null,
   "metadata": {},
   "outputs": [],
   "source": [
    "# List fields\n",
    "tweets.columns.values.tolist()"
   ]
  },
  {
   "cell_type": "code",
   "execution_count": null,
   "metadata": {},
   "outputs": [],
   "source": [
    "# Select min and max dates\n",
    "min_date = tweets['createdAt'].min()\n",
    "max_date = tweets['createdAt'].max()\n",
    "print('Min date: ', min_date)\n",
    "print('Max date: ', max_date)"
   ]
  },
  {
   "cell_type": "code",
   "execution_count": null,
   "metadata": {},
   "outputs": [],
   "source": [
    "# Store longitude and latitude in a list\n",
    "locations = tweets[['longitude', 'latitude']].values.tolist()\n",
    "\n",
    "# Remove null values\n",
    "locations = [x for x in locations if str(x[0]) != 'nan']\n",
    "\n",
    "# Cluster locations\n",
    "db = DBSCAN(eps=0.1, min_samples=10).fit(locations)\n",
    "labels = db.labels_"
   ]
  }
 ],
 "metadata": {
  "kernelspec": {
   "display_name": "tweet",
   "language": "python",
   "name": "python3"
  },
  "language_info": {
   "codemirror_mode": {
    "name": "ipython",
    "version": 3
   },
   "file_extension": ".py",
   "mimetype": "text/x-python",
   "name": "python",
   "nbconvert_exporter": "python",
   "pygments_lexer": "ipython3",
   "version": "3.10.8"
  },
  "orig_nbformat": 4,
  "vscode": {
   "interpreter": {
    "hash": "4ab90ce9a6395d3bba12362d2f9f8ee40cba6a292fd4f3df62118efa1ac8e683"
   }
  }
 },
 "nbformat": 4,
 "nbformat_minor": 2
}
