{
 "cells": [
  {
   "cell_type": "code",
   "execution_count": 1,
   "metadata": {},
   "outputs": [],
   "source": [
    "import pandas as pd\n",
    "\n",
    "# Load tweets csv file\n",
    "tweets = pd.read_csv('data/SE3B2D~1.csv')"
   ]
  },
  {
   "cell_type": "code",
   "execution_count": 9,
   "metadata": {},
   "outputs": [
    {
     "data": {
      "text/plain": [
       "['id',\n",
       " 'tweetId',\n",
       " 'createdAt',\n",
       " 'mention',\n",
       " 'start',\n",
       " 'end',\n",
       " 'entity',\n",
       " 'wikidata',\n",
       " 'longitude',\n",
       " 'latitude',\n",
       " 'altitude',\n",
       " 'osm',\n",
       " 'geonames',\n",
       " 'text']"
      ]
     },
     "execution_count": 9,
     "metadata": {},
     "output_type": "execute_result"
    }
   ],
   "source": [
    "# List fields\n",
    "tweets.columns.values.tolist()"
   ]
  },
  {
   "cell_type": "code",
   "execution_count": 5,
   "metadata": {},
   "outputs": [
    {
     "name": "stdout",
     "output_type": "stream",
     "text": [
      "Min date:  2019-11-11T09:23:24Z\n",
      "Max date:  2019-11-12T10:52:09Z\n"
     ]
    }
   ],
   "source": [
    "# Select min and max dates\n",
    "min_date = tweets['createdAt'].min()\n",
    "max_date = tweets['createdAt'].max()\n",
    "print('Min date: ', min_date)\n",
    "print('Max date: ', max_date)"
   ]
  }
 ],
 "metadata": {
  "kernelspec": {
   "display_name": "tweet",
   "language": "python",
   "name": "python3"
  },
  "language_info": {
   "codemirror_mode": {
    "name": "ipython",
    "version": 3
   },
   "file_extension": ".py",
   "mimetype": "text/x-python",
   "name": "python",
   "nbconvert_exporter": "python",
   "pygments_lexer": "ipython3",
   "version": "3.10.8"
  },
  "orig_nbformat": 4,
  "vscode": {
   "interpreter": {
    "hash": "4ab90ce9a6395d3bba12362d2f9f8ee40cba6a292fd4f3df62118efa1ac8e683"
   }
  }
 },
 "nbformat": 4,
 "nbformat_minor": 2
}
