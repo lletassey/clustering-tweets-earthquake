{
 "cells": [
  {
   "cell_type": "code",
   "execution_count": 1,
   "metadata": {},
   "outputs": [],
   "source": [
    "import pandas as pd\n",
    "from sklearn.cluster import DBSCAN"
   ]
  },
  {
   "cell_type": "code",
   "execution_count": 2,
   "metadata": {},
   "outputs": [],
   "source": [
    "# Load tweets csv file\n",
    "tweets = pd.read_csv('data/SE3B2D~1.csv')"
   ]
  },
  {
   "cell_type": "code",
   "execution_count": null,
   "metadata": {},
   "outputs": [],
   "source": [
    "# List fields\n",
    "tweets.columns.values.tolist()"
   ]
  },
  {
   "cell_type": "code",
   "execution_count": null,
   "metadata": {},
   "outputs": [],
   "source": [
    "# Select min and max dates\n",
    "min_date = tweets['createdAt'].min()\n",
    "max_date = tweets['createdAt'].max()\n",
    "print('Min date: ', min_date)\n",
    "print('Max date: ', max_date)"
   ]
  },
  {
   "cell_type": "code",
   "execution_count": 5,
   "metadata": {},
   "outputs": [],
   "source": [
    "# Store longitude and latitude in a list\n",
    "locations = tweets[['longitude', 'latitude']].values.tolist()\n",
    "\n",
    "# Remove null values\n",
    "locations = [x for x in locations if str(x[0]) != 'nan']\n",
    "\n",
    "# Cluster locations\n",
    "db = DBSCAN(eps=0.1, min_samples=10).fit(locations)\n",
    "labels = db.labels_"
   ]
  },
  {
   "cell_type": "code",
   "execution_count": null,
   "metadata": {},
   "outputs": [],
   "source": [
    "# Load a csv and convert it to a shapefile\n",
    "import geopandas as gpd\n",
    "from shapely.geometry import Point\n",
    "\n",
    "# Load csv file\n",
    "df = pd.read_csv('data/SE3B2D~1.csv')\n",
    "\n",
    "# Convert csv to shapefile\n",
    "geometry = [Point(xy) for xy in zip(df.longitude, df.latitude)]\n",
    "crs = {'init': 'epsg:4326'}\n",
    "gdf = gpd.GeoDataFrame(df, crs=crs, geometry=geometry)\n",
    "\n",
    "# Save shapefile\n",
    "gdf.to_file('data/tweets/SE3B2D~1.shp')"
   ]
  },
  {
   "cell_type": "code",
   "execution_count": 13,
   "metadata": {},
   "outputs": [],
   "source": [
    "# Remove rows where longitude is null\n",
    "gdf = gdf[gdf['longitude'].notnull()]"
   ]
  },
  {
   "cell_type": "code",
   "execution_count": 14,
   "metadata": {},
   "outputs": [],
   "source": [
    "# Display tweets on a map\n",
    "import folium\n",
    "from folium.plugins import MarkerCluster\n",
    "\n",
    "# Create a map\n",
    "m = folium.Map(location=[48.8566, 2.3522], zoom_start=12)\n",
    "\n",
    "# Add a marker cluster\n",
    "marker_cluster = MarkerCluster().add_to(m)\n",
    "\n",
    "# Add markers to the map\n",
    "for index, row in gdf.iterrows():\n",
    "    folium.Marker(location=[row['latitude'], row['longitude']],\n",
    "                    popup=row['text']).add_to(marker_cluster)"
   ]
  }
 ],
 "metadata": {
  "kernelspec": {
   "display_name": "learn-python",
   "language": "python",
   "name": "python3"
  },
  "language_info": {
   "codemirror_mode": {
    "name": "ipython",
    "version": 3
   },
   "file_extension": ".py",
   "mimetype": "text/x-python",
   "name": "python",
   "nbconvert_exporter": "python",
   "pygments_lexer": "ipython3",
   "version": "3.8.15 (default, Nov 24 2022, 14:38:14) [MSC v.1916 64 bit (AMD64)]"
  },
  "orig_nbformat": 4,
  "vscode": {
   "interpreter": {
    "hash": "f0455de5281dde2f4034228a775f8b1d94b42d44ab77bea5f35dc64b448d39e6"
   }
  }
 },
 "nbformat": 4,
 "nbformat_minor": 2
}
