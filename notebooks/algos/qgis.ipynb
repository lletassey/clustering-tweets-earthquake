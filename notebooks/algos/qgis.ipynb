{
 "cells": [
  {
   "cell_type": "code",
   "execution_count": 1,
   "metadata": {},
   "outputs": [],
   "source": [
    "from qgis.core import QgsApplication, QgsVectorLayer\n",
    "\n",
    "from processing.core.Processing import Processing\n",
    "import processing\n",
    "\n",
    "Processing.initialize()"
   ]
  },
  {
   "cell_type": "code",
   "execution_count": 2,
   "metadata": {},
   "outputs": [
    {
     "name": "stdout",
     "output_type": "stream",
     "text": [
      "native:dbscanclustering ---> DBSCAN clustering\n",
      "native:kmeansclustering ---> K-means clustering\n",
      "native:stdbscanclustering ---> ST-DBSCAN clustering\n"
     ]
    }
   ],
   "source": [
    "for alg in QgsApplication.processingRegistry().algorithms():\n",
    "    if \"clustering\" in alg.id():\n",
    "        print(alg.id(), \"--->\", alg.displayName())"
   ]
  },
  {
   "cell_type": "code",
   "execution_count": 3,
   "metadata": {},
   "outputs": [
    {
     "name": "stdout",
     "output_type": "stream",
     "text": [
      "ST-DBSCAN clustering (native:stdbscanclustering)\n",
      "\n",
      "Clusters spatiotemporal point features using a time and density based scan algorithm.\n",
      "\n",
      "Clusters point features based on a 2D implementation of spatiotemporal density-based clustering of applications with noise (ST-DBSCAN) algorithm.\n",
      "\n",
      "For more details, please see the following papers:\n",
      "* Ester, M., H. P. Kriegel, J. Sander, and X. Xu, \"A Density-Based Algorithm for Discovering Clusters in Large Spatial Databases with Noise\". In: Proceedings of the 2nd International Conference on Knowledge Discovery and Data Mining, Portland, OR, AAAI Press, pp. 226-231. 1996\n",
      "* Birant, Derya, and Alp Kut. \"ST-DBSCAN: An algorithm for clustering spatial–temporal data.\" Data & Knowledge Engineering 60.1 (2007): 208-221.\n",
      "* Peca, I., Fuchs, G., Vrotsou, K., Andrienko, N. V., & Andrienko, G. L. (2012). Scalable Cluster Analysis of Spatial Events. In EuroVA@ EuroVis.\n",
      "\n",
      "\n",
      "----------------\n",
      "Input parameters\n",
      "----------------\n",
      "\n",
      "INPUT: Input layer\n",
      "\n",
      "\tParameter type:\tQgsProcessingParameterFeatureSource\n",
      "\n",
      "\tAccepted data types:\n",
      "\t\t- str: layer ID\n",
      "\t\t- str: layer name\n",
      "\t\t- str: layer source\n",
      "\t\t- QgsProcessingFeatureSourceDefinition\n",
      "\t\t- QgsProperty\n",
      "\t\t- QgsVectorLayer\n",
      "\n",
      "DATETIME_FIELD: Date/time field\n",
      "\n",
      "\tParameter type:\tQgsProcessingParameterField\n",
      "\n",
      "\tAccepted data types:\n",
      "\t\t- str\n",
      "\t\t- QgsProperty\n",
      "\n",
      "MIN_SIZE: Minimum cluster size\n",
      "\n",
      "\tParameter type:\tQgsProcessingParameterNumber\n",
      "\n",
      "\tAccepted data types:\n",
      "\t\t- int\n",
      "\t\t- float\n",
      "\t\t- QgsProperty\n",
      "\n",
      "EPS: Maximum distance between clustered points\n",
      "\n",
      "\tParameter type:\tQgsProcessingParameterDistance\n",
      "\n",
      "\tAccepted data types:\n",
      "\t\t- int\n",
      "\t\t- float\n",
      "\t\t- QgsProperty\n",
      "\n",
      "EPS2: Maximum time duration between clustered points\n",
      "\n",
      "\tParameter type:\tQgsProcessingParameterDuration\n",
      "\n",
      "\tAccepted data types:\n",
      "\t\t- int\n",
      "\t\t- float\n",
      "\t\t- QgsProperty\n",
      "\n",
      "DBSCAN*: Treat border points as noise (DBSCAN*)\n",
      "\n",
      "\tParameter type:\tQgsProcessingParameterBoolean\n",
      "\n",
      "\tAccepted data types:\n",
      "\t\t- bool\n",
      "\t\t- int\n",
      "\t\t- str\n",
      "\t\t- QgsProperty\n",
      "\n",
      "FIELD_NAME: Cluster field name\n",
      "\n",
      "\tParameter type:\tQgsProcessingParameterString\n",
      "\n",
      "\tAccepted data types:\n",
      "\t\t- str\n",
      "\t\t- QgsProperty\n",
      "\n",
      "SIZE_FIELD_NAME: Cluster size field name\n",
      "\n",
      "\tParameter type:\tQgsProcessingParameterString\n",
      "\n",
      "\tAccepted data types:\n",
      "\t\t- str\n",
      "\t\t- QgsProperty\n",
      "\n",
      "OUTPUT: Clusters\n",
      "\n",
      "\tParameter type:\tQgsProcessingParameterFeatureSink\n",
      "\n",
      "\tAccepted data types:\n",
      "\t\t- str: destination vector file, e.g. 'd:/test.shp'\n",
      "\t\t- str: 'memory:' to store result in temporary memory layer\n",
      "\t\t- str: using vector provider ID prefix and destination URI, e.g. 'postgres:…' to store result in PostGIS table\n",
      "\t\t- QgsProcessingOutputLayerDefinition\n",
      "\t\t- QgsProperty\n",
      "\n",
      "----------------\n",
      "Outputs\n",
      "----------------\n",
      "\n",
      "OUTPUT:  <QgsProcessingOutputVectorLayer>\n",
      "\tClusters\n",
      "\n",
      "NUM_CLUSTERS:  <QgsProcessingOutputNumber>\n",
      "\tNumber of clusters\n"
     ]
    }
   ],
   "source": [
    "processing.algorithmHelp(\"native:stdbscanclustering\")"
   ]
  },
  {
   "cell_type": "code",
   "execution_count": 4,
   "metadata": {},
   "outputs": [],
   "source": [
    "tweets = QgsVectorLayer(\"../data/tweets.geojson\", \"tweets\")\n",
    "if not tweets.isValid():\n",
    "    print(\"Layer failed to load!\")"
   ]
  },
  {
   "cell_type": "code",
   "execution_count": 5,
   "metadata": {},
   "outputs": [
    {
     "name": "stdout",
     "output_type": "stream",
     "text": [
      "id\n",
      "tweetId\n",
      "createdAt\n",
      "mention\n",
      "start\n",
      "end\n",
      "entity\n",
      "wikidata\n",
      "longitude\n",
      "latitude\n",
      "altitude\n",
      "osm\n",
      "geonames\n",
      "text\n"
     ]
    }
   ],
   "source": [
    "# List fields\n",
    "for field in tweets.fields():\n",
    "    print(field.name())"
   ]
  }
 ],
 "metadata": {
  "kernelspec": {
   "display_name": "qgis",
   "language": "python",
   "name": "python3"
  },
  "language_info": {
   "codemirror_mode": {
    "name": "ipython",
    "version": 3
   },
   "file_extension": ".py",
   "mimetype": "text/x-python",
   "name": "python",
   "nbconvert_exporter": "python",
   "pygments_lexer": "ipython3",
   "version": "3.9.15"
  },
  "orig_nbformat": 4
 },
 "nbformat": 4,
 "nbformat_minor": 2
}
