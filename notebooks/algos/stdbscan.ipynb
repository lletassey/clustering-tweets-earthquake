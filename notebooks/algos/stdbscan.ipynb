{
 "cells": [
  {
   "attachments": {},
   "cell_type": "markdown",
   "metadata": {},
   "source": [
    "# ST-DBSCAN Clustering of Quake Tweets\n",
    "\n",
    "This code relies on the ST_DBSCAN algorithm, which is a spatial-temporal clustering algorithm. It is based on the DBSCAN algorithm, but with the addition of a time dimension. We have used the following implementation [ST-DBSCAN](https://github.com/eren-ck/st_dbscan)."
   ]
  },
  {
   "attachments": {},
   "cell_type": "markdown",
   "metadata": {},
   "source": [
    "### Importing Libraries\n",
    "\n",
    "We use **pandas** for data manipulation, **ST_DBSCAN** for clustering and **matplotlib** for plotting."
   ]
  },
  {
   "cell_type": "code",
   "execution_count": 7,
   "metadata": {},
   "outputs": [],
   "source": [
    "import os\n",
    "import time\n",
    "import numpy as np\n",
    "import pandas as pd\n",
    "import geopandas as gpd\n",
    "from st_dbscan import ST_DBSCAN\n",
    "from scipy.spatial import ConvexHull\n",
    "from shapely.geometry import Polygon"
   ]
  },
  {
   "attachments": {},
   "cell_type": "markdown",
   "metadata": {},
   "source": [
    "### Reading the data\n",
    "\n",
    "We use hdf format to store the data since it is more efficient than csv. We use the **pandas** library to read the data."
   ]
  },
  {
   "cell_type": "code",
   "execution_count": 8,
   "metadata": {},
   "outputs": [],
   "source": [
    "# Set data directory\n",
    "data_dir = os.path.realpath(\"../data\")\n",
    "\n",
    "# Check if file exists\n",
    "if os.path.exists(os.path.join(data_dir, \"tweets.h5\")):\n",
    "    # Read tweets from htweets5\n",
    "    tweets = pd.read_hdf(os.path.join(data_dir, \"tweets.h5\"), \"tweets\")\n",
    "else:\n",
    "    # Convert tweets to htweets5\n",
    "    # ? hdf manages large data well\n",
    "    tweets = pd.read_csv(os.path.join(data_dir, \"tweets.csv\"))\n",
    "    tweets.to_hdf(os.path.join(data_dir, \"tweets.h5\"), \"tweets\")"
   ]
  },
  {
   "attachments": {},
   "cell_type": "markdown",
   "metadata": {},
   "source": [
    "### Data Preprocessing\n",
    "\n",
    "We start by removing tweets with no location information. We then remove tweets that are not in France. We then remove tweets that are not in the 48 contiguous states. We then order the tweets by time for logical processing. We remove tweets that are not in the time range of interest. Finally we'll set a new index for the data."
   ]
  },
  {
   "cell_type": "code",
   "execution_count": 9,
   "metadata": {},
   "outputs": [],
   "source": [
    "# Remove null longitude and latitude values\n",
    "tweets = tweets[tweets[\"longitude\"].notnull()]\n",
    "\n",
    "# Constrain the area to France\n",
    "tweets = tweets.loc[\n",
    "    (tweets.latitude > 42.33278)\n",
    "    & (tweets.latitude < 51.08917)\n",
    "    & (tweets.longitude > -4.795556)\n",
    "    & (tweets.longitude < 8.230556)\n",
    "]\n",
    "\n",
    "# Order tweets by date time\n",
    "tweets['createdAt'] = pd.to_datetime(tweets['createdAt'])\n",
    "tweets.sort_values(by=\"createdAt\", inplace=True)\n",
    "\n",
    "# Remove columns that are not needed\n",
    "try:\n",
    "    tweets.drop(columns=['tweetId', 'mention', 'start', 'end', 'altitude', 'osm', 'geonames'], inplace=True)\n",
    "except:\n",
    "    pass\n",
    "\n",
    "# Set id as index\n",
    "tweets[\"id\"] = range(1, len(tweets) + 1)\n",
    "tweets.set_index('id', inplace=True, verify_integrity=False)"
   ]
  },
  {
   "attachments": {},
   "cell_type": "markdown",
   "metadata": {},
   "source": [
    "### Reprojecting the data\n",
    "\n",
    "Since we will be focusing on France, we will reproject the data to the Lambert Conformal Conic projection. This projection is used in France to represent the country on a flat map. We will use the **geopandas** library to do this."
   ]
  },
  {
   "cell_type": "code",
   "execution_count": 10,
   "metadata": {},
   "outputs": [],
   "source": [
    "# Convert tweets to geodataframe\n",
    "tweets = gpd.GeoDataFrame(tweets, geometry=gpd.points_from_xy(tweets.longitude, tweets.latitude), crs=\"EPSG:4326\")\n",
    "\n",
    "# Convert WGS84 to lambert93\n",
    "tweets = tweets.to_crs(\"EPSG:2154\")\n",
    "\n",
    "# Calculate projected coordinates\n",
    "tweets['x_m'] = tweets.geometry.x.round(3)\n",
    "tweets['y_m'] = tweets.geometry.y.round(3)\n",
    "\n",
    "# Reorder columns\n",
    "tweets = tweets[['text', 'entity', 'wikidata', 'x_m', 'y_m', 'createdAt', 'geometry']]"
   ]
  },
  {
   "cell_type": "code",
   "execution_count": 11,
   "metadata": {},
   "outputs": [
    {
     "data": {
      "text/html": [
       "<div>\n",
       "<style scoped>\n",
       "    .dataframe tbody tr th:only-of-type {\n",
       "        vertical-align: middle;\n",
       "    }\n",
       "\n",
       "    .dataframe tbody tr th {\n",
       "        vertical-align: top;\n",
       "    }\n",
       "\n",
       "    .dataframe thead th {\n",
       "        text-align: right;\n",
       "    }\n",
       "</style>\n",
       "<table border=\"1\" class=\"dataframe\">\n",
       "  <thead>\n",
       "    <tr style=\"text-align: right;\">\n",
       "      <th></th>\n",
       "      <th>text</th>\n",
       "      <th>entity</th>\n",
       "      <th>wikidata</th>\n",
       "      <th>x_m</th>\n",
       "      <th>y_m</th>\n",
       "      <th>createdAt</th>\n",
       "      <th>geometry</th>\n",
       "    </tr>\n",
       "    <tr>\n",
       "      <th>id</th>\n",
       "      <th></th>\n",
       "      <th></th>\n",
       "      <th></th>\n",
       "      <th></th>\n",
       "      <th></th>\n",
       "      <th></th>\n",
       "      <th></th>\n",
       "    </tr>\n",
       "  </thead>\n",
       "  <tbody>\n",
       "    <tr>\n",
       "      <th>1</th>\n",
       "      <td>il y a 23 min #seisme 2.0 a frappé Arbaz (Sion...</td>\n",
       "      <td>Arbaz</td>\n",
       "      <td>Q68113</td>\n",
       "      <td>1037421.834</td>\n",
       "      <td>6583455.288</td>\n",
       "      <td>2019-11-11 09:23:24+00:00</td>\n",
       "      <td>POINT (1037421.834 6583455.288)</td>\n",
       "    </tr>\n",
       "    <tr>\n",
       "      <th>2</th>\n",
       "      <td>Tremblement de terre à Lyon en ce moment !!!</td>\n",
       "      <td>Lyon</td>\n",
       "      <td>Q456</td>\n",
       "      <td>843121.942</td>\n",
       "      <td>6519367.222</td>\n",
       "      <td>2019-11-11 10:53:46+00:00</td>\n",
       "      <td>POINT (843121.942 6519367.222)</td>\n",
       "    </tr>\n",
       "    <tr>\n",
       "      <th>3</th>\n",
       "      <td>#Séisme ressenti à #Lyon à l'instant</td>\n",
       "      <td>Lyon</td>\n",
       "      <td>Q456</td>\n",
       "      <td>843121.942</td>\n",
       "      <td>6519367.222</td>\n",
       "      <td>2019-11-11 10:53:56+00:00</td>\n",
       "      <td>POINT (843121.942 6519367.222)</td>\n",
       "    </tr>\n",
       "    <tr>\n",
       "      <th>4</th>\n",
       "      <td>Tremblement de terre en Ardèche à l'instant</td>\n",
       "      <td>Ardèche (département)</td>\n",
       "      <td>Q3148</td>\n",
       "      <td>812290.663</td>\n",
       "      <td>6397402.763</td>\n",
       "      <td>2019-11-11 10:54:09+00:00</td>\n",
       "      <td>POINT (812290.663 6397402.763)</td>\n",
       "    </tr>\n",
       "    <tr>\n",
       "      <th>5</th>\n",
       "      <td>Wait ! Y’a des tremblements de terre en France...</td>\n",
       "      <td>France</td>\n",
       "      <td>Q142</td>\n",
       "      <td>624015.535</td>\n",
       "      <td>6656012.010</td>\n",
       "      <td>2019-11-11 10:54:18+00:00</td>\n",
       "      <td>POINT (624015.535 6656012.010)</td>\n",
       "    </tr>\n",
       "  </tbody>\n",
       "</table>\n",
       "</div>"
      ],
      "text/plain": [
       "                                                 text                 entity  \\\n",
       "id                                                                             \n",
       "1   il y a 23 min #seisme 2.0 a frappé Arbaz (Sion...                  Arbaz   \n",
       "2        Tremblement de terre à Lyon en ce moment !!!                   Lyon   \n",
       "3                #Séisme ressenti à #Lyon à l'instant                   Lyon   \n",
       "4         Tremblement de terre en Ardèche à l'instant  Ardèche (département)   \n",
       "5   Wait ! Y’a des tremblements de terre en France...                 France   \n",
       "\n",
       "   wikidata          x_m          y_m                 createdAt  \\\n",
       "id                                                                \n",
       "1    Q68113  1037421.834  6583455.288 2019-11-11 09:23:24+00:00   \n",
       "2      Q456   843121.942  6519367.222 2019-11-11 10:53:46+00:00   \n",
       "3      Q456   843121.942  6519367.222 2019-11-11 10:53:56+00:00   \n",
       "4     Q3148   812290.663  6397402.763 2019-11-11 10:54:09+00:00   \n",
       "5      Q142   624015.535  6656012.010 2019-11-11 10:54:18+00:00   \n",
       "\n",
       "                           geometry  \n",
       "id                                   \n",
       "1   POINT (1037421.834 6583455.288)  \n",
       "2    POINT (843121.942 6519367.222)  \n",
       "3    POINT (843121.942 6519367.222)  \n",
       "4    POINT (812290.663 6397402.763)  \n",
       "5    POINT (624015.535 6656012.010)  "
      ]
     },
     "execution_count": 11,
     "metadata": {},
     "output_type": "execute_result"
    }
   ],
   "source": [
    "tweets.head()"
   ]
  },
  {
   "attachments": {},
   "cell_type": "markdown",
   "metadata": {},
   "source": [
    "### Clustering using ST-DBSCAN\n",
    "\n",
    "We'll start by normalizing the data. We'll then use the ST-DBSCAN algorithm to cluster the data. We'll use the **ST_DBSCAN** library to do this."
   ]
  },
  {
   "cell_type": "code",
   "execution_count": 12,
   "metadata": {},
   "outputs": [],
   "source": [
    "# Normalize coordinates\n",
    "# ! Test whether normalization speeds up the algorithm\n",
    "tweets['x_m_norm'] = (tweets['x_m'] - tweets['x_m'].min()) / (tweets['x_m'].max() - tweets['x_m'].min())\n",
    "tweets['y_m_norm'] = (tweets['y_m'] - tweets['y_m'].min()) / (tweets['y_m'].max() - tweets['y_m'].min())\n",
    "\n",
    "# Convert datetime to timestamp\n",
    "tweets['ts'] = tweets['createdAt'].values.astype(np.int64) // 10 ** 9\n",
    "\n",
    "# Input to ST-DBSCAN\n",
    "data = tweets.loc[:, ['ts','x_m_norm','y_m_norm']].values\n",
    "\n",
    "# We'll be used for plotting (we can't plot normalized coordinates)\n",
    "COORDS = tweets.loc[:, ['x_m','y_m']].values"
   ]
  },
  {
   "cell_type": "code",
   "execution_count": 13,
   "metadata": {},
   "outputs": [
    {
     "name": "stdout",
     "output_type": "stream",
     "text": [
      "Time taken:  1.2260527610778809\n",
      "Number of clusters: 5\n"
     ]
    }
   ],
   "source": [
    "# ST-DBSCAN Clustering\n",
    "# Parameters\n",
    "eps1 = 0.1 # Distance threshold\n",
    "eps2 = 60*10 # Time threshold\n",
    "min_samples = 22 # Minimum number of points in a cluster\n",
    "\n",
    "start = time.time()\n",
    "st_dbscan = ST_DBSCAN(eps1 = eps1, eps2 = eps2, min_samples = min_samples).fit(data)\n",
    "end = time.time()\n",
    "\n",
    "print(\"Time taken: \", end - start)\n",
    "print(\"Number of clusters: {}\".format(len(set(st_dbscan.labels))))\n",
    "\n",
    "# Add cluster column to tweets\n",
    "tweets['cluster'] = st_dbscan.labels"
   ]
  },
  {
   "attachments": {},
   "cell_type": "markdown",
   "metadata": {},
   "source": [
    "### Create convex hulls for each cluster\n",
    "\n",
    "In order to assess the extent of the quake, we'll create a convex hull for each cluster. We'll use the **scipy.spatial** library to do this."
   ]
  },
  {
   "cell_type": "code",
   "execution_count": 14,
   "metadata": {},
   "outputs": [],
   "source": [
    "# Create a hulls geodataframe\n",
    "hulls = gpd.GeoDataFrame(columns=['cluster', 'num_tweets', 'area_km2', 'geometry'])\n",
    "\n",
    "for cluster in set(st_dbscan.labels):\n",
    "    if cluster != -1:\n",
    "        # Get the coordinates of the points in the cluster\n",
    "        points = COORDS[st_dbscan.labels == cluster]\n",
    "        # Create a convex hull\n",
    "        try:\n",
    "            hull = ConvexHull(points)\n",
    "        except:\n",
    "            continue\n",
    "        # Append the cluster and hull to the geodataframe using concat instead of append\n",
    "        hulls = pd.concat([hulls, gpd.GeoDataFrame({\n",
    "            'cluster': [cluster],\n",
    "            'num_tweets': [len(points)],\n",
    "            'geometry': [Polygon(points[hull.vertices])]\n",
    "        })], ignore_index=True)\n",
    "\n",
    "hulls.set_crs(epsg=2154, inplace=True)\n",
    "\n",
    "# Calculate the area of the hulls\n",
    "hulls['area_km2'] = round(hulls['geometry'].area / 1_000_000, 2)"
   ]
  },
  {
   "cell_type": "code",
   "execution_count": 15,
   "metadata": {},
   "outputs": [
    {
     "data": {
      "text/html": [
       "<div>\n",
       "<style scoped>\n",
       "    .dataframe tbody tr th:only-of-type {\n",
       "        vertical-align: middle;\n",
       "    }\n",
       "\n",
       "    .dataframe tbody tr th {\n",
       "        vertical-align: top;\n",
       "    }\n",
       "\n",
       "    .dataframe thead th {\n",
       "        text-align: right;\n",
       "    }\n",
       "</style>\n",
       "<table border=\"1\" class=\"dataframe\">\n",
       "  <thead>\n",
       "    <tr style=\"text-align: right;\">\n",
       "      <th></th>\n",
       "      <th>cluster</th>\n",
       "      <th>num_tweets</th>\n",
       "      <th>area_km2</th>\n",
       "      <th>geometry</th>\n",
       "    </tr>\n",
       "  </thead>\n",
       "  <tbody>\n",
       "    <tr>\n",
       "      <th>0</th>\n",
       "      <td>0</td>\n",
       "      <td>3644</td>\n",
       "      <td>57095.45</td>\n",
       "      <td>POLYGON ((759494.449 6278654.288, 894593.377 6...</td>\n",
       "    </tr>\n",
       "    <tr>\n",
       "      <th>1</th>\n",
       "      <td>2</td>\n",
       "      <td>67</td>\n",
       "      <td>11161.97</td>\n",
       "      <td>POLYGON ((838057.960 6360621.723, 914078.319 6...</td>\n",
       "    </tr>\n",
       "    <tr>\n",
       "      <th>2</th>\n",
       "      <td>3</td>\n",
       "      <td>575</td>\n",
       "      <td>24820.61</td>\n",
       "      <td>POLYGON ((914078.319 6457877.621, 843121.942 6...</td>\n",
       "    </tr>\n",
       "  </tbody>\n",
       "</table>\n",
       "</div>"
      ],
      "text/plain": [
       "  cluster num_tweets  area_km2  \\\n",
       "0       0       3644  57095.45   \n",
       "1       2         67  11161.97   \n",
       "2       3        575  24820.61   \n",
       "\n",
       "                                            geometry  \n",
       "0  POLYGON ((759494.449 6278654.288, 894593.377 6...  \n",
       "1  POLYGON ((838057.960 6360621.723, 914078.319 6...  \n",
       "2  POLYGON ((914078.319 6457877.621, 843121.942 6...  "
      ]
     },
     "execution_count": 15,
     "metadata": {},
     "output_type": "execute_result"
    }
   ],
   "source": [
    "hulls.head()"
   ]
  },
  {
   "attachments": {},
   "cell_type": "markdown",
   "metadata": {},
   "source": [
    "### Plot the clusters\n",
    "\n",
    "We'll use the **matplotlib** library to plot the clusters. As a base map, we'll have a map of France. We'll use the **geopandas** library to do this."
   ]
  },
  {
   "cell_type": "code",
   "execution_count": 16,
   "metadata": {},
   "outputs": [],
   "source": [
    "# Read France geojson\n",
    "france = gpd.read_file(filename='../data/france.geojson')\n",
    "france = france.to_crs(\"EPSG:2154\")"
   ]
  },
  {
   "cell_type": "code",
   "execution_count": 17,
   "metadata": {},
   "outputs": [
    {
     "name": "stdout",
     "output_type": "stream",
     "text": [
      "Cluster -1: 731 tweets\n",
      "Cluster 0: 3644 tweets\n",
      "Cluster 1: 176 tweets\n",
      "Cluster 2: 67 tweets\n",
      "Cluster 3: 575 tweets\n"
     ]
    },
    {
     "data": {
      "text/plain": [
       "Text(50.097222222222214, 0.5, 'X (km)')"
      ]
     },
     "execution_count": 17,
     "metadata": {},
     "output_type": "execute_result"
    },
    {
     "data": {
      "image/png": "[encoded data removed]",
      "text/plain": [
       "<Figure size 700x700 with 1 Axes>"
      ]
     },
     "metadata": {},
     "output_type": "display_data"
    }
   ],
   "source": [
    "# Plot base map\n",
    "base = france.plot(color='#F2E7DC', figsize=(7, 7), linewidth=0)\n",
    "base.set_facecolor('#818274')\n",
    "base.get_figure().patch.set_facecolor('#22272e')\n",
    "\n",
    "# Plot tweets with color based on cluster\n",
    "for cluster in tweets.cluster.unique():\n",
    "    # Number of tweets in cluster\n",
    "    num_tweets = len(tweets[tweets.cluster == cluster])\n",
    "    print(\"Cluster {}: {} tweets\".format(cluster, num_tweets))\n",
    "    tweets[tweets.cluster == cluster].plot(\n",
    "        ax=base,\n",
    "        markersize=6 if cluster == -1 else 10,\n",
    "        label='Noise' if cluster == -1 else 'Cluster {}'.format(cluster),\n",
    "        alpha=0.4 if cluster == -1 else 1,\n",
    "        marker='x' if cluster != -1 else '+',\n",
    "        color='#161819' if cluster == -1 else 'C{}'.format(cluster + 4),\n",
    "        linewidth=0.6 if cluster == -1 else 0.8,\n",
    "    )\n",
    "    \n",
    "for cluster in hulls.cluster:\n",
    "    hulls[hulls.cluster == cluster].plot(\n",
    "        ax=base,\n",
    "        alpha=0.3,\n",
    "        color='C{}'.format(cluster + 4),\n",
    "        edgecolor='C{}'.format(cluster + 4),\n",
    "        linewidth=1\n",
    "    )\n",
    "\n",
    "# Set title\n",
    "base.set_title(\"DBSCAN Clustering of Tweets in France\", fontsize=20, family='Myriad Pro', weight='medium', color='white', pad=10)\n",
    "\n",
    "# Set legend\n",
    "base.legend(loc='best', bbox_to_anchor=(1.23, 1.01), prop={'family': 'Myriad Pro', 'weight': 'book'}, fontsize=9, labelcolor='#22272e', markerscale=2, facecolor='white', title_fontsize=14, fancybox=False, framealpha=1, edgecolor='#22272e')\n",
    "\n",
    "# Add grid\n",
    "base.grid(color='#161819', linestyle='-', linewidth=0.2, alpha=0.3)\n",
    "\n",
    "# Change tick labels\n",
    "m2km = lambda x, _: f'{x/1000:g}'\n",
    "base.xaxis.set_major_formatter(m2km)\n",
    "base.yaxis.set_major_formatter(m2km)\n",
    "\n",
    "# Set axis labels\n",
    "base.set_xlabel(\"Y (km)\", fontsize=7, labelpad=5)\n",
    "base.set_ylabel(\"X (km)\", fontsize=7, labelpad=5)"
   ]
  },
  {
   "cell_type": "code",
   "execution_count": 18,
   "metadata": {},
   "outputs": [],
   "source": [
    "# Save figure\n",
    "base.get_figure().savefig('../images/dbscan.png', dpi=300, bbox_inches='tight', facecolor=base.get_figure().get_facecolor(), edgecolor='none')"
   ]
  }
 ],
 "metadata": {
  "kernelspec": {
   "display_name": "tweet",
   "language": "python",
   "name": "python3"
  },
  "language_info": {
   "codemirror_mode": {
    "name": "ipython",
    "version": 3
   },
   "file_extension": ".py",
   "mimetype": "text/x-python",
   "name": "python",
   "nbconvert_exporter": "python",
   "pygments_lexer": "ipython3",
   "version": "3.9.16"
  },
  "orig_nbformat": 4,
  "vscode": {
   "interpreter": {
    "hash": "17f2718f0011a7e62961ce8cd20a40265eb4dd1214a4e3e8c28ddc4905f6ec99"
   }
  }
 },
 "nbformat": 4,
 "nbformat_minor": 2
}
