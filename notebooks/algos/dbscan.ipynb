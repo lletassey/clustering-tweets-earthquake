{
 "cells": [
  {
   "attachments": {},
   "cell_type": "markdown",
   "metadata": {},
   "source": [
    "# DBSCAN Clustering of Quake Tweets\n",
    "\n",
    "We implement the DBSCAN algorithm in this notebook."
   ]
  },
  {
   "attachments": {},
   "cell_type": "markdown",
   "metadata": {},
   "source": [
    "### Imports "
   ]
  },
  {
   "cell_type": "code",
   "execution_count": 1,
   "metadata": {},
   "outputs": [],
   "source": [
    "import os\n",
    "import time\n",
    "import numpy as np\n",
    "import pandas as pd\n",
    "import geopandas as gpd\n",
    "import matplotlib.pyplot as plt\n",
    "from sklearn.cluster import DBSCAN\n",
    "from prettytable import PrettyTable\n",
    "from scipy.spatial import ConvexHull\n",
    "from shapely.geometry import Polygon\n"
   ]
  },
  {
   "cell_type": "markdown",
   "metadata": {},
   "source": [
    "### Read in the data"
   ]
  },
  {
   "cell_type": "code",
   "execution_count": 2,
   "metadata": {},
   "outputs": [],
   "source": [
    "# Read tweets\n",
    "data_dir = os.path.realpath(\"../../data\")\n",
    "tweets = pd.read_hdf(os.path.join(data_dir, \"tweets.h5\"), \"tweets\")"
   ]
  },
  {
   "cell_type": "markdown",
   "metadata": {},
   "source": [
    "### Data Preprocessing"
   ]
  },
  {
   "cell_type": "code",
   "execution_count": 3,
   "metadata": {},
   "outputs": [],
   "source": [
    "# Remove tweets with no coordinates\n",
    "tweets = tweets[tweets[\"longitude\"].notnull()]\n",
    "\n",
    "# Constrain the area to France\n",
    "tweets = tweets.loc[\n",
    "        (tweets.latitude > 42.33278)\n",
    "    &   (tweets.latitude < 51.08917)\n",
    "    &   (tweets.longitude > -4.795556)\n",
    "    &   (tweets.longitude < +8.230556)\n",
    "]\n",
    "\n",
    "# Order tweets by datetime\n",
    "tweets['createdAt'] = pd.to_datetime(tweets['createdAt'])\n",
    "tweets.sort_values(by=\"createdAt\", inplace=True)\n",
    "\n",
    "# Remove columns that are not needed\n",
    "try:\n",
    "    tweets.drop(columns=['tweetId', 'mention', 'start', 'end', 'altitude', 'osm', 'geonames'], inplace=True)\n",
    "except:\n",
    "    pass\n",
    "\n",
    "# Set id as index\n",
    "tweets[\"id\"] = range(1, len(tweets) + 1)\n",
    "tweets.set_index('id', inplace=True, verify_integrity=False)\n",
    "\n",
    "# Convert tweets to geodataframe\n",
    "tweets = gpd.GeoDataFrame(tweets, geometry=gpd.points_from_xy(tweets.longitude, tweets.latitude), crs=\"EPSG:4326\")\n",
    "\n",
    "# Project tweets to Lambert 93\n",
    "tweets = tweets.to_crs(\"EPSG:2154\")\n",
    "\n",
    "# Calculate projected coordinates\n",
    "tweets['x_m'] = tweets.geometry.x.round(3)\n",
    "tweets['y_m'] = tweets.geometry.y.round(3)\n",
    "\n",
    "# Reorder columns\n",
    "tweets = tweets[['text', 'entity', 'wikidata', 'x_m', 'y_m', 'createdAt', 'geometry']]\n",
    "\n",
    "# if \"wikidata\" in tweets.columns:\n",
    "#     tweets.drop_duplicates(subset=\"wikidata\", inplace=True)"
   ]
  },
  {
   "cell_type": "code",
   "execution_count": 4,
   "metadata": {},
   "outputs": [
    {
     "data": {
      "text/html": [
       "<div>\n",
       "<style scoped>\n",
       "    .dataframe tbody tr th:only-of-type {\n",
       "        vertical-align: middle;\n",
       "    }\n",
       "\n",
       "    .dataframe tbody tr th {\n",
       "        vertical-align: top;\n",
       "    }\n",
       "\n",
       "    .dataframe thead th {\n",
       "        text-align: right;\n",
       "    }\n",
       "</style>\n",
       "<table border=\"1\" class=\"dataframe\">\n",
       "  <thead>\n",
       "    <tr style=\"text-align: right;\">\n",
       "      <th></th>\n",
       "      <th>text</th>\n",
       "      <th>entity</th>\n",
       "      <th>wikidata</th>\n",
       "      <th>x_m</th>\n",
       "      <th>y_m</th>\n",
       "      <th>createdAt</th>\n",
       "      <th>geometry</th>\n",
       "    </tr>\n",
       "    <tr>\n",
       "      <th>id</th>\n",
       "      <th></th>\n",
       "      <th></th>\n",
       "      <th></th>\n",
       "      <th></th>\n",
       "      <th></th>\n",
       "      <th></th>\n",
       "      <th></th>\n",
       "    </tr>\n",
       "  </thead>\n",
       "  <tbody>\n",
       "    <tr>\n",
       "      <th>1</th>\n",
       "      <td>il y a 23 min #seisme 2.0 a frappé Arbaz (Sion...</td>\n",
       "      <td>Arbaz</td>\n",
       "      <td>Q68113</td>\n",
       "      <td>1037421.834</td>\n",
       "      <td>6583455.288</td>\n",
       "      <td>2019-11-11 09:23:24+00:00</td>\n",
       "      <td>POINT (1037421.834 6583455.288)</td>\n",
       "    </tr>\n",
       "    <tr>\n",
       "      <th>2</th>\n",
       "      <td>Tremblement de terre à Lyon en ce moment !!!</td>\n",
       "      <td>Lyon</td>\n",
       "      <td>Q456</td>\n",
       "      <td>843121.942</td>\n",
       "      <td>6519367.222</td>\n",
       "      <td>2019-11-11 10:53:46+00:00</td>\n",
       "      <td>POINT (843121.942 6519367.222)</td>\n",
       "    </tr>\n",
       "    <tr>\n",
       "      <th>3</th>\n",
       "      <td>#Séisme ressenti à #Lyon à l'instant</td>\n",
       "      <td>Lyon</td>\n",
       "      <td>Q456</td>\n",
       "      <td>843121.942</td>\n",
       "      <td>6519367.222</td>\n",
       "      <td>2019-11-11 10:53:56+00:00</td>\n",
       "      <td>POINT (843121.942 6519367.222)</td>\n",
       "    </tr>\n",
       "    <tr>\n",
       "      <th>4</th>\n",
       "      <td>Tremblement de terre en Ardèche à l'instant</td>\n",
       "      <td>Ardèche (département)</td>\n",
       "      <td>Q3148</td>\n",
       "      <td>812290.663</td>\n",
       "      <td>6397402.763</td>\n",
       "      <td>2019-11-11 10:54:09+00:00</td>\n",
       "      <td>POINT (812290.663 6397402.763)</td>\n",
       "    </tr>\n",
       "    <tr>\n",
       "      <th>5</th>\n",
       "      <td>Wait ! Y’a des tremblements de terre en France...</td>\n",
       "      <td>France</td>\n",
       "      <td>Q142</td>\n",
       "      <td>624015.535</td>\n",
       "      <td>6656012.010</td>\n",
       "      <td>2019-11-11 10:54:18+00:00</td>\n",
       "      <td>POINT (624015.535 6656012.010)</td>\n",
       "    </tr>\n",
       "  </tbody>\n",
       "</table>\n",
       "</div>"
      ],
      "text/plain": [
       "                                                 text                 entity  \\\n",
       "id                                                                             \n",
       "1   il y a 23 min #seisme 2.0 a frappé Arbaz (Sion...                  Arbaz   \n",
       "2        Tremblement de terre à Lyon en ce moment !!!                   Lyon   \n",
       "3                #Séisme ressenti à #Lyon à l'instant                   Lyon   \n",
       "4         Tremblement de terre en Ardèche à l'instant  Ardèche (département)   \n",
       "5   Wait ! Y’a des tremblements de terre en France...                 France   \n",
       "\n",
       "   wikidata          x_m          y_m                 createdAt  \\\n",
       "id                                                                \n",
       "1    Q68113  1037421.834  6583455.288 2019-11-11 09:23:24+00:00   \n",
       "2      Q456   843121.942  6519367.222 2019-11-11 10:53:46+00:00   \n",
       "3      Q456   843121.942  6519367.222 2019-11-11 10:53:56+00:00   \n",
       "4     Q3148   812290.663  6397402.763 2019-11-11 10:54:09+00:00   \n",
       "5      Q142   624015.535  6656012.010 2019-11-11 10:54:18+00:00   \n",
       "\n",
       "                           geometry  \n",
       "id                                   \n",
       "1   POINT (1037421.834 6583455.288)  \n",
       "2    POINT (843121.942 6519367.222)  \n",
       "3    POINT (843121.942 6519367.222)  \n",
       "4    POINT (812290.663 6397402.763)  \n",
       "5    POINT (624015.535 6656012.010)  "
      ]
     },
     "execution_count": 4,
     "metadata": {},
     "output_type": "execute_result"
    }
   ],
   "source": [
    "tweets.head()"
   ]
  },
  {
   "cell_type": "markdown",
   "metadata": {},
   "source": [
    "### Clustering using DBSCAN"
   ]
  },
  {
   "cell_type": "code",
   "execution_count": 5,
   "metadata": {},
   "outputs": [
    {
     "name": "stdout",
     "output_type": "stream",
     "text": [
      "+---------+-------------+----------+---------------+\n",
      "| EPS (m) | MIN_SAMPLES | Time (s) | # of clusters |\n",
      "+---------+-------------+----------+---------------+\n",
      "|  25000  |      8      |   0.21   |       19      |\n",
      "+---------+-------------+----------+---------------+\n"
     ]
    }
   ],
   "source": [
    "# Will be used for plotting \n",
    "COORDS = tweets.loc[:, ['x_m','y_m']].values\n",
    "\n",
    "# DBSCAN Clustering\n",
    "# Parameters\n",
    "EPS = 25_000 # 25km\n",
    "MIN_SAMPLES = 8\n",
    "\n",
    "# Run ST-DBSCAN\n",
    "start = time.time()\n",
    "dbscan = DBSCAN(eps=EPS, min_samples=MIN_SAMPLES).fit(COORDS)\n",
    "end = time.time()\n",
    "\n",
    "result = [\n",
    "    ['EPS (m)', 'MIN_SAMPLES', 'Time (s)', '# of clusters'],\n",
    "    [EPS, MIN_SAMPLES, round(end - start, 2), len(set(dbscan.labels_))]\n",
    "]\n",
    "\n",
    "table = PrettyTable(result[0])\n",
    "table.add_row(result[1])\n",
    "print(table)\n",
    "\n",
    "# Add cluster column to tweets\n",
    "tweets['cluster'] = dbscan.labels_\n",
    "\n",
    "# Create a multiindex\n",
    "# Test whether cluster is an index\n",
    "if \"cluster\" not in tweets.index.names:\n",
    "    tweets.sort_values(by=\"cluster\", inplace=True)\n",
    "    tweets.set_index(pd.MultiIndex.from_tuples(list(zip(tweets['cluster'], range(1, len(tweets) + 1))), names=[\"cluster\", \"tweet_id\"]), inplace=True)\n",
    "    tweets.drop(columns=['cluster'], inplace=True)\n",
    "    "
   ]
  },
  {
   "cell_type": "markdown",
   "metadata": {},
   "source": [
    "### Create convex hulls for each cluster"
   ]
  },
  {
   "cell_type": "code",
   "execution_count": 6,
   "metadata": {},
   "outputs": [
    {
     "name": "stdout",
     "output_type": "stream",
     "text": [
      "Clusters with hulls: {0, 1, 6, 7, 8, 9, 10, 11, 16}\n",
      "Clusters with no hulls:  {2, 3, 4, 5, 12, 13, 14, 15, 17}\n"
     ]
    }
   ],
   "source": [
    "# Create a hulls geodataframe\n",
    "hulls = gpd.GeoDataFrame(columns=['num_tweets', 'area_km2', 'geometry'])\n",
    "\n",
    "for cluster in set(dbscan.labels_):\n",
    "    if cluster != -1:\n",
    "        # Get the coordinates of the points in the cluster\n",
    "        points = COORDS[dbscan.labels_ == cluster]\n",
    "        # Create a convex hull\n",
    "        try:\n",
    "            hull = ConvexHull(points)\n",
    "        except:\n",
    "            continue\n",
    "        # Append the cluster and hull to the geodataframe using concat instead of append\n",
    "        hulls = pd.concat([hulls, gpd.GeoDataFrame({\n",
    "            'cluster': [cluster],\n",
    "            'num_tweets': [len(points)],\n",
    "            'geometry': [Polygon(points[hull.vertices])]\n",
    "        })], ignore_index=True)\n",
    "\n",
    "hulls['cluster'] = hulls['cluster'].astype(int)\n",
    "\n",
    "hulls.set_crs(epsg=2154, inplace=True)\n",
    "\n",
    "# Calculate the area of the hulls\n",
    "hulls['area_km2'] = round(hulls['geometry'].area / 1_000_000, 2)\n",
    "\n",
    "# Clusters with no hulls\n",
    "u_set = set(tweets.index.get_level_values(0)) - set(hulls['cluster']) - {-1}\n",
    "print(f\"Clusters with hulls: {set(hulls['cluster'])}\")\n",
    "print(\"Clusters with no hulls: \", u_set)\n",
    "\n",
    "# Remove tweet clusters with no hulls\n",
    "tweets = tweets[~tweets.index.get_level_values(0).isin(u_set)]\n",
    "\n",
    "# Restart cluster ids for clusters different than -1\n",
    "tweets.reset_index('cluster', inplace=True)\n",
    "tweets.loc[tweets['cluster'] != -1, 'cluster'] = tweets.loc[tweets['cluster'] != -1, 'cluster'].astype('category').cat.codes\n",
    "\n",
    "# Recreate multiindex\n",
    "tweets.set_index(pd.MultiIndex.from_tuples(list(zip(tweets['cluster'], range(1, len(tweets) + 1))), names=[\"cluster\", \"tweet_id\"]), inplace=True)\n",
    "tweets.drop(columns=['cluster'], inplace=True)\n",
    "\n",
    "# Restart hulls cluster ids\n",
    "hulls['cluster'] = hulls['cluster'].astype('category').cat.codes"
   ]
  },
  {
   "cell_type": "code",
   "execution_count": 7,
   "metadata": {},
   "outputs": [
    {
     "data": {
      "text/html": [
       "<div>\n",
       "<style scoped>\n",
       "    .dataframe tbody tr th:only-of-type {\n",
       "        vertical-align: middle;\n",
       "    }\n",
       "\n",
       "    .dataframe tbody tr th {\n",
       "        vertical-align: top;\n",
       "    }\n",
       "\n",
       "    .dataframe thead th {\n",
       "        text-align: right;\n",
       "    }\n",
       "</style>\n",
       "<table border=\"1\" class=\"dataframe\">\n",
       "  <thead>\n",
       "    <tr style=\"text-align: right;\">\n",
       "      <th></th>\n",
       "      <th>num_tweets</th>\n",
       "      <th>area_km2</th>\n",
       "      <th>geometry</th>\n",
       "      <th>cluster</th>\n",
       "    </tr>\n",
       "  </thead>\n",
       "  <tbody>\n",
       "    <tr>\n",
       "      <th>0</th>\n",
       "      <td>589</td>\n",
       "      <td>822.41</td>\n",
       "      <td>POLYGON ((837347.766 6479894.351, 846327.439 6...</td>\n",
       "      <td>0</td>\n",
       "    </tr>\n",
       "    <tr>\n",
       "      <th>1</th>\n",
       "      <td>3399</td>\n",
       "      <td>11198.14</td>\n",
       "      <td>POLYGON ((831086.829 6461460.680, 769682.047 6...</td>\n",
       "      <td>1</td>\n",
       "    </tr>\n",
       "    <tr>\n",
       "      <th>2</th>\n",
       "      <td>95</td>\n",
       "      <td>224.92</td>\n",
       "      <td>POLYGON ((877274.602 6435944.836, 890515.384 6...</td>\n",
       "      <td>2</td>\n",
       "    </tr>\n",
       "    <tr>\n",
       "      <th>3</th>\n",
       "      <td>33</td>\n",
       "      <td>0.33</td>\n",
       "      <td>POLYGON ((786493.341 6337060.549, 786629.366 6...</td>\n",
       "      <td>3</td>\n",
       "    </tr>\n",
       "    <tr>\n",
       "      <th>4</th>\n",
       "      <td>24</td>\n",
       "      <td>104.10</td>\n",
       "      <td>POLYGON ((1055997.917 6302420.153, 1035014.187...</td>\n",
       "      <td>4</td>\n",
       "    </tr>\n",
       "  </tbody>\n",
       "</table>\n",
       "</div>"
      ],
      "text/plain": [
       "  num_tweets  area_km2                                           geometry  \\\n",
       "0        589    822.41  POLYGON ((837347.766 6479894.351, 846327.439 6...   \n",
       "1       3399  11198.14  POLYGON ((831086.829 6461460.680, 769682.047 6...   \n",
       "2         95    224.92  POLYGON ((877274.602 6435944.836, 890515.384 6...   \n",
       "3         33      0.33  POLYGON ((786493.341 6337060.549, 786629.366 6...   \n",
       "4         24    104.10  POLYGON ((1055997.917 6302420.153, 1035014.187...   \n",
       "\n",
       "   cluster  \n",
       "0        0  \n",
       "1        1  \n",
       "2        2  \n",
       "3        3  \n",
       "4        4  "
      ]
     },
     "execution_count": 7,
     "metadata": {},
     "output_type": "execute_result"
    }
   ],
   "source": [
    "hulls.head()"
   ]
  },
  {
   "attachments": {},
   "cell_type": "markdown",
   "metadata": {},
   "source": [
    "### Plot the clusters"
   ]
  },
  {
   "cell_type": "code",
   "execution_count": 8,
   "metadata": {},
   "outputs": [],
   "source": [
    "# Read France geojson\n",
    "france = gpd.read_file(filename='../../data/france.geojson')\n",
    "france = france.to_crs(\"EPSG:2154\")"
   ]
  },
  {
   "cell_type": "code",
   "execution_count": 9,
   "metadata": {},
   "outputs": [
    {
     "name": "stdout",
     "output_type": "stream",
     "text": [
      "Cluster -1: 121 tweets\n",
      "Cluster 0: 589 tweets\n",
      "Cluster 1: 3399 tweets\n",
      "Cluster 2: 95 tweets\n",
      "Cluster 3: 33 tweets\n",
      "Cluster 4: 24 tweets\n",
      "Cluster 5: 16 tweets\n",
      "Cluster 6: 16 tweets\n",
      "Cluster 7: 17 tweets\n",
      "Cluster 8: 12 tweets\n"
     ]
    },
    {
     "data": {
      "text/plain": [
       "Text(0.02, 0.98, '$EPS=25$ km\\n$min_{samples}=8$ tweets')"
      ]
     },
     "execution_count": 9,
     "metadata": {},
     "output_type": "execute_result"
    },
    {
     "data": {
      "image/png": "[encoded data removed]",
      "text/plain": [
       "<Figure size 700x700 with 1 Axes>"
      ]
     },
     "metadata": {},
     "output_type": "display_data"
    }
   ],
   "source": [
    "# Plot base map\n",
    "base = france.plot(color='#F2E7DC', figsize=(7, 7), linewidth=0)\n",
    "base.set_facecolor('#818274')\n",
    "base.get_figure().patch.set_facecolor('#22272e')\n",
    "\n",
    "# Plot tweets with color based on cluster\n",
    "for cluster in tweets.index.get_level_values(0).unique():\n",
    "    # Number of tweets in cluster\n",
    "    num_tweets = len(tweets[tweets.index.get_level_values(0) == cluster])\n",
    "    # Check whether cluster id exists in hulls\n",
    "    if cluster in hulls.cluster.values or cluster == -1:\n",
    "        print(\"Cluster {}: {} tweets\".format(cluster, num_tweets))\n",
    "        tweets[tweets.index.get_level_values(0) == cluster].plot(\n",
    "            ax=base,\n",
    "            markersize=6 if cluster == -1 else 10,\n",
    "            label='Noise' if cluster == -1 else 'Cluster {}'.format(cluster),\n",
    "            marker='x' if cluster != -1 else '+',\n",
    "            color='#161819' if cluster == -1 else 'C{}'.format(cluster),\n",
    "            linewidth=0.5 if cluster == -1 else 0.8,\n",
    "        )\n",
    "    \n",
    "for cluster in hulls.cluster:\n",
    "    hulls[hulls.cluster == cluster].plot(\n",
    "        ax=base,\n",
    "        alpha=0.3,\n",
    "        color='C{}'.format(cluster),\n",
    "        edgecolor='C{}'.format(cluster),\n",
    "        linewidth=1\n",
    "    )\n",
    "\n",
    "# Set title\n",
    "base.set_title(\"DBSCAN Clustering of Teil Quake Tweets\", fontsize=16, weight='medium', color='white', pad=10)\n",
    "\n",
    "# Set legend\n",
    "base.legend(loc='best', fontsize=9, labelcolor='#22272e', markerscale=2, facecolor='white', title_fontsize=14, fancybox=False, framealpha=1, edgecolor='#22272e')\n",
    "# bbox_to_anchor=(1.23, 1.01\n",
    "\n",
    "# Add grid\n",
    "base.grid(color='#161819', linestyle='-', linewidth=0.2, alpha=0.3)\n",
    "\n",
    "# Change tick labels\n",
    "m2km = lambda x, _: f'{x/1000:g}'\n",
    "base.xaxis.set_major_formatter(m2km)\n",
    "base.yaxis.set_major_formatter(m2km)\n",
    "\n",
    "# Set axis labels\n",
    "base.set_xlabel(\"X (km)\", fontsize=7, labelpad=5, color='white')\n",
    "base.set_ylabel(\"Y (km)\", fontsize=7, labelpad=5, color='white')\n",
    "\n",
    "# Set axis ticks color\n",
    "base.tick_params(axis='x', colors='white')\n",
    "base.tick_params(axis='y', colors='white')\n",
    "\n",
    "textstr = '\\n'.join((\n",
    "    r'$EPS=%.0f$ km' % (EPS / 1_000, ),\n",
    "    r'$min_{samples}=%d$ tweets' % (MIN_SAMPLES, )))\n",
    "\n",
    "# these are matplotlib.patch.Patch properties\n",
    "props = dict(facecolor='white')\n",
    "\n",
    "# place a text box in upper left in axes coords\n",
    "base.text(0.02, 0.98, textstr, transform=base.transAxes, fontsize=7,\n",
    "        verticalalignment='top', bbox=props)"
   ]
  },
  {
   "cell_type": "code",
   "execution_count": 10,
   "metadata": {},
   "outputs": [],
   "source": [
    "# Save figure\n",
    "base.get_figure().savefig('../images/dbscan.png', dpi=300, bbox_inches='tight', facecolor=base.get_figure().get_facecolor(), edgecolor='none')"
   ]
  }
 ],
 "metadata": {
  "kernelspec": {
   "display_name": "tweet",
   "language": "python",
   "name": "python3"
  },
  "language_info": {
   "codemirror_mode": {
    "name": "ipython",
    "version": 3
   },
   "file_extension": ".py",
   "mimetype": "text/x-python",
   "name": "python",
   "nbconvert_exporter": "python",
   "pygments_lexer": "ipython3",
   "version": "3.9.16"
  },
  "orig_nbformat": 4,
  "vscode": {
   "interpreter": {
    "hash": "17f2718f0011a7e62961ce8cd20a40265eb4dd1214a4e3e8c28ddc4905f6ec99"
   }
  }
 },
 "nbformat": 4,
 "nbformat_minor": 2
}
