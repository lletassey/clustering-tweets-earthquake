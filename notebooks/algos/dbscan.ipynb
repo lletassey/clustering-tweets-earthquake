{
 "cells": [
  {
   "attachments": {},
   "cell_type": "markdown",
   "metadata": {},
   "source": [
    "# DBSCAN\n",
    "\n",
    "We implement the DBSCAN algorithm in this notebook."
   ]
  },
  {
   "attachments": {},
   "cell_type": "markdown",
   "metadata": {},
   "source": [
    "### Imports "
   ]
  },
  {
   "cell_type": "code",
   "execution_count": 1,
   "metadata": {},
   "outputs": [],
   "source": [
    "import os\n",
    "import time\n",
    "import pandas as pd\n",
    "import geopandas as gpd\n",
    "import preprocessor as p\n",
    "from sklearn.cluster import DBSCAN\n",
    "from scipy.spatial import ConvexHull\n",
    "from shapely.geometry import Polygon"
   ]
  },
  {
   "cell_type": "markdown",
   "metadata": {},
   "source": [
    "### Read in the data"
   ]
  },
  {
   "cell_type": "code",
   "execution_count": 2,
   "metadata": {},
   "outputs": [],
   "source": [
    "# Set data directory\n",
    "data_dir = os.path.realpath(\"../data\")\n",
    "\n",
    "# Check if file exists\n",
    "if os.path.exists(os.path.join(data_dir, \"tweets.h5\")):\n",
    "    # Read tweets from htweets5\n",
    "    tweets = pd.read_hdf(os.path.join(data_dir, \"tweets.h5\"), \"tweets\")\n",
    "else:\n",
    "    # Convert tweets to htweets5\n",
    "    # ? hdf manages large data well\n",
    "    tweets = pd.read_csv(os.path.join(data_dir, \"tweets.csv\"))\n",
    "    tweets.to_hdf(os.path.join(data_dir, \"tweets.h5\"), \"tweets\")"
   ]
  },
  {
   "cell_type": "markdown",
   "metadata": {},
   "source": [
    "### Data Preprocessing"
   ]
  },
  {
   "cell_type": "code",
   "execution_count": 3,
   "metadata": {},
   "outputs": [],
   "source": [
    "# Remove duplicates\n",
    "tweets.drop_duplicates(subset=\"wikidata\", inplace=True)\n",
    "\n",
    "# Remove null longitude and latitude values\n",
    "tweets = tweets[tweets[\"longitude\"].notnull()]\n",
    "\n",
    "# Constrain the area to France\n",
    "tweets = tweets.loc[\n",
    "    (tweets.latitude > 42.33278)\n",
    "    & (tweets.latitude < 51.08917)\n",
    "    & (tweets.longitude > -4.795556)\n",
    "    & (tweets.longitude < 8.230556)\n",
    "]\n",
    "\n",
    "# Set preprocessor options\n",
    "p.set_options(p.OPT.URL)\n",
    "\n",
    "# Remove URLs from the tweets\n",
    "tweets['text'] = tweets['text'].apply(lambda x: p.clean(x))\n",
    "\n",
    "# Order tweets by createdAt\n",
    "tweets.sort_values(by=\"createdAt\", inplace=True)\n",
    "\n",
    "# Set id as index\n",
    "tweets[\"id\"] = range(1, len(tweets) + 1)\n",
    "tweets.set_index('id', inplace=True, verify_integrity=False)\n",
    "\n",
    "# Remove columns that are not needed\n",
    "tweets.drop(columns=['tweetId', 'mention', 'start', 'end', 'wikidata', 'altitude', 'osm', 'geonames'], inplace=True)"
   ]
  },
  {
   "cell_type": "code",
   "execution_count": 4,
   "metadata": {},
   "outputs": [
    {
     "data": {
      "text/html": [
       "<div>\n",
       "<style scoped>\n",
       "    .dataframe tbody tr th:only-of-type {\n",
       "        vertical-align: middle;\n",
       "    }\n",
       "\n",
       "    .dataframe tbody tr th {\n",
       "        vertical-align: top;\n",
       "    }\n",
       "\n",
       "    .dataframe thead th {\n",
       "        text-align: right;\n",
       "    }\n",
       "</style>\n",
       "<table border=\"1\" class=\"dataframe\">\n",
       "  <thead>\n",
       "    <tr style=\"text-align: right;\">\n",
       "      <th></th>\n",
       "      <th>createdAt</th>\n",
       "      <th>entity</th>\n",
       "      <th>longitude</th>\n",
       "      <th>latitude</th>\n",
       "      <th>text</th>\n",
       "    </tr>\n",
       "    <tr>\n",
       "      <th>id</th>\n",
       "      <th></th>\n",
       "      <th></th>\n",
       "      <th></th>\n",
       "      <th></th>\n",
       "      <th></th>\n",
       "    </tr>\n",
       "  </thead>\n",
       "  <tbody>\n",
       "    <tr>\n",
       "      <th>1</th>\n",
       "      <td>2019-11-11T10:55:21Z</td>\n",
       "      <td>Saint-Genest-Malifaux</td>\n",
       "      <td>4.419722</td>\n",
       "      <td>45.340000</td>\n",
       "      <td>C'est moi où il y a eu un mini tremblement de ...</td>\n",
       "    </tr>\n",
       "    <tr>\n",
       "      <th>2</th>\n",
       "      <td>2019-11-11T10:56:12Z</td>\n",
       "      <td>Pont-Saint-Esprit</td>\n",
       "      <td>4.648333</td>\n",
       "      <td>44.256389</td>\n",
       "      <td>Vous avez senti le tremblement de terre à Pont...</td>\n",
       "    </tr>\n",
       "    <tr>\n",
       "      <th>3</th>\n",
       "      <td>2019-11-11T10:56:57Z</td>\n",
       "      <td>Uzès</td>\n",
       "      <td>4.419722</td>\n",
       "      <td>44.012500</td>\n",
       "      <td>Tremblement de terre à Uzès à l’instant ! Je r...</td>\n",
       "    </tr>\n",
       "    <tr>\n",
       "      <th>4</th>\n",
       "      <td>2019-11-11T10:57:15Z</td>\n",
       "      <td>Mende (Lozère)</td>\n",
       "      <td>3.500556</td>\n",
       "      <td>44.518333</td>\n",
       "      <td>Y’a eu un tremblement de terre dans ma ville 😭</td>\n",
       "    </tr>\n",
       "    <tr>\n",
       "      <th>5</th>\n",
       "      <td>2019-11-11T10:57:44Z</td>\n",
       "      <td>Oullins</td>\n",
       "      <td>4.807500</td>\n",
       "      <td>45.714167</td>\n",
       "      <td>Petit tremblement de terre sur Oullins de 5’’ ...</td>\n",
       "    </tr>\n",
       "  </tbody>\n",
       "</table>\n",
       "</div>"
      ],
      "text/plain": [
       "               createdAt                 entity  longitude   latitude  \\\n",
       "id                                                                      \n",
       "1   2019-11-11T10:55:21Z  Saint-Genest-Malifaux   4.419722  45.340000   \n",
       "2   2019-11-11T10:56:12Z      Pont-Saint-Esprit   4.648333  44.256389   \n",
       "3   2019-11-11T10:56:57Z                   Uzès   4.419722  44.012500   \n",
       "4   2019-11-11T10:57:15Z         Mende (Lozère)   3.500556  44.518333   \n",
       "5   2019-11-11T10:57:44Z                Oullins   4.807500  45.714167   \n",
       "\n",
       "                                                 text  \n",
       "id                                                     \n",
       "1   C'est moi où il y a eu un mini tremblement de ...  \n",
       "2   Vous avez senti le tremblement de terre à Pont...  \n",
       "3   Tremblement de terre à Uzès à l’instant ! Je r...  \n",
       "4      Y’a eu un tremblement de terre dans ma ville 😭  \n",
       "5   Petit tremblement de terre sur Oullins de 5’’ ...  "
      ]
     },
     "execution_count": 4,
     "metadata": {},
     "output_type": "execute_result"
    }
   ],
   "source": [
    "tweets.head()"
   ]
  },
  {
   "cell_type": "code",
   "execution_count": 5,
   "metadata": {},
   "outputs": [
    {
     "name": "stdout",
     "output_type": "stream",
     "text": [
      "Time taken: 0.0030052661895751953 seconds\n",
      "Number of clusters: 5\n"
     ]
    }
   ],
   "source": [
    "# Convert lat and long to numpy array\n",
    "COORDS = tweets[['longitude', 'latitude']].values\n",
    "\n",
    "# Set DBSCAN parameters\n",
    "# ? Higher minsamples or lower eps indicate higher density necessary to form a cluster\n",
    "# ? On noisy and large datasets, higher min_samples is better\n",
    "EPS = 0.8\n",
    "MIN_SAMPLES = 5\n",
    "\n",
    "# Start timer\n",
    "start = time.time()\n",
    "\n",
    "# Create DBSCAN model\n",
    "# ? Noise is labeled -1\n",
    "db = DBSCAN(eps=EPS, min_samples=MIN_SAMPLES).fit(COORDS)\n",
    "\n",
    "# End timer\n",
    "end = time.time()\n",
    "\n",
    "# Print time taken\n",
    "print(\"Time taken: {} seconds\".format(end - start))\n",
    "\n",
    "# Print number of clusters\n",
    "print(\"Number of clusters: {}\".format(len(set(db.labels_))))\n",
    "\n",
    "# Store labels in tweets\n",
    "tweets['cluster'] = db.labels_"
   ]
  },
  {
   "cell_type": "code",
   "execution_count": 6,
   "metadata": {},
   "outputs": [
    {
     "data": {
      "text/html": [
       "<div>\n",
       "<style scoped>\n",
       "    .dataframe tbody tr th:only-of-type {\n",
       "        vertical-align: middle;\n",
       "    }\n",
       "\n",
       "    .dataframe tbody tr th {\n",
       "        vertical-align: top;\n",
       "    }\n",
       "\n",
       "    .dataframe thead th {\n",
       "        text-align: right;\n",
       "    }\n",
       "</style>\n",
       "<table border=\"1\" class=\"dataframe\">\n",
       "  <thead>\n",
       "    <tr style=\"text-align: right;\">\n",
       "      <th></th>\n",
       "      <th>cluster</th>\n",
       "      <th>geometry</th>\n",
       "    </tr>\n",
       "  </thead>\n",
       "  <tbody>\n",
       "    <tr>\n",
       "      <th>0</th>\n",
       "      <td>0</td>\n",
       "      <td>POLYGON ((2.43972 44.92528, 3.16667 43.66667, ...</td>\n",
       "    </tr>\n",
       "    <tr>\n",
       "      <th>1</th>\n",
       "      <td>1</td>\n",
       "      <td>POLYGON ((2.58667 49.20722, 2.27139 48.83890, ...</td>\n",
       "    </tr>\n",
       "    <tr>\n",
       "      <th>2</th>\n",
       "      <td>2</td>\n",
       "      <td>POLYGON ((1.44389 43.60444, 1.95278 42.44667, ...</td>\n",
       "    </tr>\n",
       "    <tr>\n",
       "      <th>3</th>\n",
       "      <td>3</td>\n",
       "      <td>POLYGON ((7.76806 48.58333, 7.50000 48.50000, ...</td>\n",
       "    </tr>\n",
       "  </tbody>\n",
       "</table>\n",
       "</div>"
      ],
      "text/plain": [
       "  cluster                                           geometry\n",
       "0       0  POLYGON ((2.43972 44.92528, 3.16667 43.66667, ...\n",
       "1       1  POLYGON ((2.58667 49.20722, 2.27139 48.83890, ...\n",
       "2       2  POLYGON ((1.44389 43.60444, 1.95278 42.44667, ...\n",
       "3       3  POLYGON ((7.76806 48.58333, 7.50000 48.50000, ..."
      ]
     },
     "execution_count": 6,
     "metadata": {},
     "output_type": "execute_result"
    }
   ],
   "source": [
    "# Create a hulls geodataframe\n",
    "hulls = gpd.GeoDataFrame(columns=['cluster', 'geometry'])\n",
    "\n",
    "for cluster in set(db.labels_):\n",
    "    if cluster != -1:\n",
    "        # Get the coordinates of the points in the cluster\n",
    "        points = COORDS[db.labels_ == cluster]\n",
    "        # Create a convex hull\n",
    "        hull = ConvexHull(points)\n",
    "        # Append the cluster and hull to the geodataframe using concat instead of append\n",
    "        hulls = pd.concat([hulls, gpd.GeoDataFrame({\n",
    "            'cluster': [cluster],\n",
    "            'geometry': [Polygon(points[hull.vertices])]\n",
    "        })], ignore_index=True)\n",
    "\n",
    "hulls.set_crs(epsg=4326, inplace=True)"
   ]
  },
  {
   "cell_type": "code",
   "execution_count": 7,
   "metadata": {},
   "outputs": [],
   "source": [
    "# Read France geojson\n",
    "france = gpd.read_file(filename='../data/france.geojson')\n",
    "\n",
    "# Convert tweets to geodataframe\n",
    "tweets_gdf = gpd.GeoDataFrame(\n",
    "    tweets,\n",
    "    geometry=gpd.points_from_xy(tweets.longitude, tweets.latitude),\n",
    "    crs=\"EPSG:4326\"\n",
    ")"
   ]
  },
  {
   "cell_type": "code",
   "execution_count": 8,
   "metadata": {},
   "outputs": [
    {
     "data": {
      "text/plain": [
       "Text(0.5, 1.0, 'DBSCAN Clustering of Tweets in France')"
      ]
     },
     "execution_count": 8,
     "metadata": {},
     "output_type": "execute_result"
    },
    {
     "data": {
      "image/png": "[encoded data removed]",
      "text/plain": [
       "<Figure size 700x700 with 1 Axes>"
      ]
     },
     "metadata": {},
     "output_type": "display_data"
    }
   ],
   "source": [
    "# Plot base map\n",
    "base = france.plot(color='#F2E7DC', figsize=(7, 7), linewidth=0)\n",
    "base.set_facecolor('#818274')\n",
    "\n",
    "# Plot tweets with cluster labels with different markers\n",
    "for cluster in tweets_gdf.cluster.unique():\n",
    "    tweets_gdf[tweets_gdf.cluster == cluster].plot(\n",
    "        ax=base,\n",
    "        markersize=10,\n",
    "        label='NOISE' if cluster == -1 else 'Cluster {}'.format(cluster),\n",
    "        alpha=0.7,\n",
    "        # linewidth=0.6,\n",
    "        marker='x' if cluster != -1 else '+',\n",
    "        color='black' if cluster == -1 else 'C{}'.format(cluster + 3),\n",
    "        linewidth=0.6,\n",
    "    )\n",
    "    \n",
    "for cluster in hulls.cluster:\n",
    "    hulls[hulls.cluster == cluster].plot(\n",
    "        ax=base,\n",
    "        alpha=0.3,\n",
    "        color='C{}'.format(cluster + 3),\n",
    "        edgecolor='black',\n",
    "        linewidth=0.6,\n",
    "    )\n",
    "\n",
    "# Set title\n",
    "base.set_title(\"DBSCAN Clustering of Tweets in France\", fontsize=20)"
   ]
  },
  {
   "cell_type": "code",
   "execution_count": 9,
   "metadata": {},
   "outputs": [],
   "source": [
    "# Save figure\n",
    "base.get_figure().savefig('../images/dbscan.png', dpi=300)"
   ]
  }
 ],
 "metadata": {
  "kernelspec": {
   "display_name": "tweet",
   "language": "python",
   "name": "python3"
  },
  "language_info": {
   "codemirror_mode": {
    "name": "ipython",
    "version": 3
   },
   "file_extension": ".py",
   "mimetype": "text/x-python",
   "name": "python",
   "nbconvert_exporter": "python",
   "pygments_lexer": "ipython3",
   "version": "3.9.16"
  },
  "orig_nbformat": 4,
  "vscode": {
   "interpreter": {
    "hash": "17f2718f0011a7e62961ce8cd20a40265eb4dd1214a4e3e8c28ddc4905f6ec99"
   }
  }
 },
 "nbformat": 4,
 "nbformat_minor": 2
}
