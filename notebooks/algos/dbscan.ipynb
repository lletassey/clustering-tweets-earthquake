{
 "cells": [
  {
   "attachments": {},
   "cell_type": "markdown",
   "metadata": {},
   "source": [
    "# DBSCAN Clustering of Quake Tweets\n",
    "\n",
    "We implement the DBSCAN algorithm in this notebook."
   ]
  },
  {
   "attachments": {},
   "cell_type": "markdown",
   "metadata": {},
   "source": [
    "### Imports "
   ]
  },
  {
   "cell_type": "code",
   "execution_count": 1,
   "metadata": {},
   "outputs": [],
   "source": [
    "import os\n",
    "import time\n",
    "import pandas as pd\n",
    "import geopandas as gpd\n",
    "import preprocessor as p\n",
    "from sklearn.cluster import DBSCAN\n",
    "from scipy.spatial import ConvexHull\n",
    "from shapely.geometry import Polygon"
   ]
  },
  {
   "cell_type": "markdown",
   "metadata": {},
   "source": [
    "### Read in the data"
   ]
  },
  {
   "cell_type": "code",
   "execution_count": 2,
   "metadata": {},
   "outputs": [],
   "source": [
    "# Set data directory\n",
    "data_dir = os.path.realpath(\"../data\")\n",
    "\n",
    "# Check if file exists\n",
    "if os.path.exists(os.path.join(data_dir, \"tweets.h5\")):\n",
    "    # Read tweets from htweets5\n",
    "    tweets = pd.read_hdf(os.path.join(data_dir, \"tweets.h5\"), \"tweets\")\n",
    "else:\n",
    "    # Convert tweets to htweets5\n",
    "    # ? hdf manages large data well\n",
    "    tweets = pd.read_csv(os.path.join(data_dir, \"tweets.csv\"))\n",
    "    tweets.to_hdf(os.path.join(data_dir, \"tweets.h5\"), \"tweets\")"
   ]
  },
  {
   "cell_type": "markdown",
   "metadata": {},
   "source": [
    "### Data Preprocessing"
   ]
  },
  {
   "cell_type": "code",
   "execution_count": 3,
   "metadata": {},
   "outputs": [],
   "source": [
    "# Remove null longitude and latitude values\n",
    "tweets = tweets[tweets[\"longitude\"].notnull()]\n",
    "\n",
    "# Constrain the area to France\n",
    "tweets = tweets.loc[\n",
    "    (tweets.latitude > 42.33278)\n",
    "    & (tweets.latitude < 51.08917)\n",
    "    & (tweets.longitude > -4.795556)\n",
    "    & (tweets.longitude < 8.230556)\n",
    "]\n",
    "\n",
    "# Set preprocessor options\n",
    "p.set_options(p.OPT.URL)\n",
    "\n",
    "# Remove URLs from the tweets\n",
    "tweets['text'] = tweets['text'].apply(lambda x: p.clean(x))\n",
    "\n",
    "# Convert createdAt to datetime\n",
    "tweets['createdAt'] = pd.to_datetime(tweets['createdAt'])"
   ]
  },
  {
   "cell_type": "code",
   "execution_count": 4,
   "metadata": {},
   "outputs": [],
   "source": [
    "# Remove duplicates\n",
    "# Test if wikidata column exists\n",
    "if \"wikidata\" in tweets.columns:\n",
    "    tweets.drop_duplicates(subset=\"wikidata\", inplace=True)\n",
    "\n",
    "# Order tweets by createdAt\n",
    "tweets.sort_values(by=\"createdAt\", inplace=True)\n",
    "\n",
    "# Set id as index\n",
    "tweets[\"id\"] = range(1, len(tweets) + 1)\n",
    "tweets.set_index('id', inplace=True, verify_integrity=False)\n",
    "\n",
    "# Remove columns that are not needed\n",
    "if \"wikidata\" in tweets.columns:\n",
    "    tweets.drop(columns=['tweetId', 'mention', 'start', 'end', 'wikidata', 'altitude', 'osm', 'geonames'], inplace=True)\n",
    "\n",
    "# Convert tweets to geodataframe with crs\n",
    "tweets = gpd.GeoDataFrame(tweets, geometry=gpd.points_from_xy(tweets.longitude, tweets.latitude), crs=\"EPSG:4326\")\n",
    "\n",
    "# Convert crs to lambert93\n",
    "tweets = tweets.to_crs(\"EPSG:2154\")\n",
    "\n",
    "# Calculate x and y coordinates and round them\n",
    "tweets['x_m'] = tweets.geometry.x.round(3)\n",
    "tweets['y_m'] = tweets.geometry.y.round(3)\n",
    "\n",
    "# Move x_m and y_m after latitude and longitude\n",
    "tweets = tweets[['text', 'entity', 'x_m', 'y_m', 'createdAt', 'geometry']]"
   ]
  },
  {
   "cell_type": "code",
   "execution_count": 5,
   "metadata": {},
   "outputs": [
    {
     "data": {
      "text/html": [
       "<div>\n",
       "<style scoped>\n",
       "    .dataframe tbody tr th:only-of-type {\n",
       "        vertical-align: middle;\n",
       "    }\n",
       "\n",
       "    .dataframe tbody tr th {\n",
       "        vertical-align: top;\n",
       "    }\n",
       "\n",
       "    .dataframe thead th {\n",
       "        text-align: right;\n",
       "    }\n",
       "</style>\n",
       "<table border=\"1\" class=\"dataframe\">\n",
       "  <thead>\n",
       "    <tr style=\"text-align: right;\">\n",
       "      <th></th>\n",
       "      <th>text</th>\n",
       "      <th>entity</th>\n",
       "      <th>x_m</th>\n",
       "      <th>y_m</th>\n",
       "      <th>createdAt</th>\n",
       "      <th>geometry</th>\n",
       "    </tr>\n",
       "    <tr>\n",
       "      <th>id</th>\n",
       "      <th></th>\n",
       "      <th></th>\n",
       "      <th></th>\n",
       "      <th></th>\n",
       "      <th></th>\n",
       "      <th></th>\n",
       "    </tr>\n",
       "  </thead>\n",
       "  <tbody>\n",
       "    <tr>\n",
       "      <th>1</th>\n",
       "      <td>C'est moi où il y a eu un mini tremblement de ...</td>\n",
       "      <td>Saint-Genest-Malifaux</td>\n",
       "      <td>811188.310</td>\n",
       "      <td>6472179.062</td>\n",
       "      <td>2019-11-11T10:55:21Z</td>\n",
       "      <td>POINT (811188.310 6472179.062)</td>\n",
       "    </tr>\n",
       "    <tr>\n",
       "      <th>2</th>\n",
       "      <td>Vous avez senti le tremblement de terre à Pont...</td>\n",
       "      <td>Pont-Saint-Esprit</td>\n",
       "      <td>831602.342</td>\n",
       "      <td>6352192.726</td>\n",
       "      <td>2019-11-11T10:56:12Z</td>\n",
       "      <td>POINT (831602.342 6352192.726)</td>\n",
       "    </tr>\n",
       "    <tr>\n",
       "      <th>3</th>\n",
       "      <td>Tremblement de terre à Uzès à l’instant ! Je r...</td>\n",
       "      <td>Uzès</td>\n",
       "      <td>813839.409</td>\n",
       "      <td>6324745.465</td>\n",
       "      <td>2019-11-11T10:56:57Z</td>\n",
       "      <td>POINT (813839.409 6324745.465)</td>\n",
       "    </tr>\n",
       "    <tr>\n",
       "      <th>4</th>\n",
       "      <td>Y’a eu un tremblement de terre dans ma ville 😭</td>\n",
       "      <td>Mende (Lozère)</td>\n",
       "      <td>739782.346</td>\n",
       "      <td>6380044.618</td>\n",
       "      <td>2019-11-11T10:57:15Z</td>\n",
       "      <td>POINT (739782.346 6380044.618)</td>\n",
       "    </tr>\n",
       "    <tr>\n",
       "      <th>5</th>\n",
       "      <td>Petit tremblement de terre sur Oullins de 5’’ ...</td>\n",
       "      <td>Oullins</td>\n",
       "      <td>840602.068</td>\n",
       "      <td>6514341.217</td>\n",
       "      <td>2019-11-11T10:57:44Z</td>\n",
       "      <td>POINT (840602.068 6514341.217)</td>\n",
       "    </tr>\n",
       "  </tbody>\n",
       "</table>\n",
       "</div>"
      ],
      "text/plain": [
       "                                                 text                 entity  \\\n",
       "id                                                                             \n",
       "1   C'est moi où il y a eu un mini tremblement de ...  Saint-Genest-Malifaux   \n",
       "2   Vous avez senti le tremblement de terre à Pont...      Pont-Saint-Esprit   \n",
       "3   Tremblement de terre à Uzès à l’instant ! Je r...                   Uzès   \n",
       "4      Y’a eu un tremblement de terre dans ma ville 😭         Mende (Lozère)   \n",
       "5   Petit tremblement de terre sur Oullins de 5’’ ...                Oullins   \n",
       "\n",
       "           x_m          y_m             createdAt  \\\n",
       "id                                                  \n",
       "1   811188.310  6472179.062  2019-11-11T10:55:21Z   \n",
       "2   831602.342  6352192.726  2019-11-11T10:56:12Z   \n",
       "3   813839.409  6324745.465  2019-11-11T10:56:57Z   \n",
       "4   739782.346  6380044.618  2019-11-11T10:57:15Z   \n",
       "5   840602.068  6514341.217  2019-11-11T10:57:44Z   \n",
       "\n",
       "                          geometry  \n",
       "id                                  \n",
       "1   POINT (811188.310 6472179.062)  \n",
       "2   POINT (831602.342 6352192.726)  \n",
       "3   POINT (813839.409 6324745.465)  \n",
       "4   POINT (739782.346 6380044.618)  \n",
       "5   POINT (840602.068 6514341.217)  "
      ]
     },
     "execution_count": 5,
     "metadata": {},
     "output_type": "execute_result"
    }
   ],
   "source": [
    "tweets.head()"
   ]
  },
  {
   "cell_type": "markdown",
   "metadata": {},
   "source": [
    "### Clustering using DBSCAN"
   ]
  },
  {
   "cell_type": "code",
   "execution_count": 6,
   "metadata": {},
   "outputs": [
    {
     "name": "stdout",
     "output_type": "stream",
     "text": [
      "Time taken: 0.004998207092285156 seconds\n",
      "Number of clusters: 3\n"
     ]
    }
   ],
   "source": [
    "# Convert lat and long to numpy array\n",
    "COORDS = tweets[['x_m', 'y_m']].values\n",
    "\n",
    "# Set DBSCAN parameters\n",
    "# ? Higher minsamples or lower eps indicate higher density necessary to form a cluster\n",
    "# ? On noisy and large datasets, higher min_samples is better\n",
    "EPS = 25_000 # 20km\n",
    "MIN_SAMPLES = 8\n",
    "\n",
    "# Start timer\n",
    "start = time.time()\n",
    "\n",
    "# Create DBSCAN model\n",
    "# ? Noise is labeled -1\n",
    "db = DBSCAN(eps=EPS, min_samples=MIN_SAMPLES).fit(COORDS)\n",
    "\n",
    "# End timer\n",
    "end = time.time()\n",
    "\n",
    "# Print time taken\n",
    "print(\"Time taken: {} seconds\".format(end - start))\n",
    "\n",
    "# Print number of clusters\n",
    "print(\"Number of clusters: {}\".format(len(set(db.labels_))))\n",
    "\n",
    "# Store labels in tweets\n",
    "tweets['cluster'] = db.labels_"
   ]
  },
  {
   "cell_type": "markdown",
   "metadata": {},
   "source": [
    "### Create convex hulls for each cluster"
   ]
  },
  {
   "cell_type": "code",
   "execution_count": 7,
   "metadata": {},
   "outputs": [],
   "source": [
    "# Create a hulls geodataframe\n",
    "hulls = gpd.GeoDataFrame(columns=['cluster', 'num_tweets', 'area_km2', 'geometry'])\n",
    "\n",
    "for cluster in set(db.labels_):\n",
    "    if cluster != -1:\n",
    "        # Get the coordinates of the points in the cluster\n",
    "        points = COORDS[db.labels_ == cluster]\n",
    "        # Create a convex hull\n",
    "        try:\n",
    "            hull = ConvexHull(points)\n",
    "        except:\n",
    "            continue\n",
    "        # Append the cluster and hull to the geodataframe using concat instead of append\n",
    "        hulls = pd.concat([hulls, gpd.GeoDataFrame({\n",
    "            'cluster': [cluster],\n",
    "            'num_tweets': [len(points)],\n",
    "            'geometry': [Polygon(points[hull.vertices])]\n",
    "        })], ignore_index=True)\n",
    "\n",
    "hulls.set_crs(epsg=2154, inplace=True)\n",
    "\n",
    "# Calculate the area of the hulls\n",
    "hulls['area_km2'] = round(hulls['geometry'].area / 1_000_000, 2)"
   ]
  },
  {
   "cell_type": "code",
   "execution_count": 8,
   "metadata": {},
   "outputs": [
    {
     "data": {
      "text/html": [
       "<div>\n",
       "<style scoped>\n",
       "    .dataframe tbody tr th:only-of-type {\n",
       "        vertical-align: middle;\n",
       "    }\n",
       "\n",
       "    .dataframe tbody tr th {\n",
       "        vertical-align: top;\n",
       "    }\n",
       "\n",
       "    .dataframe thead th {\n",
       "        text-align: right;\n",
       "    }\n",
       "</style>\n",
       "<table border=\"1\" class=\"dataframe\">\n",
       "  <thead>\n",
       "    <tr style=\"text-align: right;\">\n",
       "      <th></th>\n",
       "      <th>cluster</th>\n",
       "      <th>num_tweets</th>\n",
       "      <th>area_km2</th>\n",
       "      <th>geometry</th>\n",
       "    </tr>\n",
       "  </thead>\n",
       "  <tbody>\n",
       "    <tr>\n",
       "      <th>0</th>\n",
       "      <td>0</td>\n",
       "      <td>45</td>\n",
       "      <td>6931.82</td>\n",
       "      <td>POLYGON ((844235.501 6442558.927, 796293.367 6...</td>\n",
       "    </tr>\n",
       "    <tr>\n",
       "      <th>1</th>\n",
       "      <td>1</td>\n",
       "      <td>18</td>\n",
       "      <td>822.41</td>\n",
       "      <td>POLYGON ((837347.766 6479894.351, 846327.439 6...</td>\n",
       "    </tr>\n",
       "  </tbody>\n",
       "</table>\n",
       "</div>"
      ],
      "text/plain": [
       "  cluster num_tweets  area_km2  \\\n",
       "0       0         45   6931.82   \n",
       "1       1         18    822.41   \n",
       "\n",
       "                                            geometry  \n",
       "0  POLYGON ((844235.501 6442558.927, 796293.367 6...  \n",
       "1  POLYGON ((837347.766 6479894.351, 846327.439 6...  "
      ]
     },
     "execution_count": 8,
     "metadata": {},
     "output_type": "execute_result"
    }
   ],
   "source": [
    "hulls.head()"
   ]
  },
  {
   "attachments": {},
   "cell_type": "markdown",
   "metadata": {},
   "source": [
    "### Plot the clusters"
   ]
  },
  {
   "cell_type": "code",
   "execution_count": 9,
   "metadata": {},
   "outputs": [],
   "source": [
    "# Read France geojson\n",
    "france = gpd.read_file(filename='../data/france.geojson')\n",
    "france = france.to_crs(\"EPSG:2154\")"
   ]
  },
  {
   "cell_type": "code",
   "execution_count": 10,
   "metadata": {},
   "outputs": [
    {
     "data": {
      "text/plain": [
       "Text(50.097222222222214, 0.5, 'X (km)')"
      ]
     },
     "execution_count": 10,
     "metadata": {},
     "output_type": "execute_result"
    },
    {
     "data": {
      "image/png": "[encoded data removed]",
      "text/plain": [
       "<Figure size 700x700 with 1 Axes>"
      ]
     },
     "metadata": {},
     "output_type": "display_data"
    }
   ],
   "source": [
    "# Plot base map\n",
    "base = france.plot(color='#F2E7DC', figsize=(7, 7), linewidth=0)\n",
    "base.set_facecolor('#818274')\n",
    "base.get_figure().patch.set_facecolor('#22272e')\n",
    "\n",
    "# Plot tweets with cluster labels with different markers\n",
    "for cluster in tweets.cluster.unique():\n",
    "    tweets[tweets.cluster == cluster].plot(\n",
    "        ax=base,\n",
    "        markersize=6 if cluster == -1 else 10,\n",
    "        label='Noise' if cluster == -1 else 'Cluster {}'.format(cluster),\n",
    "        alpha=0.4 if cluster == -1 else 1,\n",
    "        marker='x' if cluster != -1 else '+',\n",
    "        color='#161819' if cluster == -1 else 'C{}'.format(cluster + 4),\n",
    "        linewidth=0.6 if cluster == -1 else 0.8,\n",
    "    )\n",
    "    \n",
    "for cluster in hulls.cluster:\n",
    "    hulls[hulls.cluster == cluster].plot(\n",
    "        ax=base,\n",
    "        alpha=0.3,\n",
    "        color='C{}'.format(cluster + 4),\n",
    "        edgecolor='C{}'.format(cluster + 4),\n",
    "        linewidth=1\n",
    "    )\n",
    "\n",
    "# Set title\n",
    "base.set_title(\"DBSCAN Clustering of Tweets in France\", fontsize=20, family='Myriad Pro', weight='medium', color='white', pad=10)\n",
    "\n",
    "# Set legend\n",
    "base.legend(loc='best', bbox_to_anchor=(1.23, 1.01), prop={'family': 'Myriad Pro', 'weight': 'book'}, fontsize=9, labelcolor='#22272e', markerscale=2, facecolor='white', title_fontsize=14, fancybox=False, framealpha=1, edgecolor='#22272e')\n",
    "\n",
    "# Add grid\n",
    "base.grid(color='#161819', linestyle='-', linewidth=0.2, alpha=0.3)\n",
    "\n",
    "# Change tick labels\n",
    "m2km = lambda x, _: f'{x/1000:g}'\n",
    "base.xaxis.set_major_formatter(m2km)\n",
    "base.yaxis.set_major_formatter(m2km)\n",
    "\n",
    "# Set axis labels\n",
    "base.set_xlabel(\"Y (km)\", fontsize=7, labelpad=5)\n",
    "base.set_ylabel(\"X (km)\", fontsize=7, labelpad=5)"
   ]
  },
  {
   "cell_type": "code",
   "execution_count": 11,
   "metadata": {},
   "outputs": [],
   "source": [
    "# Save figure\n",
    "base.get_figure().savefig('../images/dbscan.png', dpi=300, bbox_inches='tight', facecolor=base.get_figure().get_facecolor(), edgecolor='none')"
   ]
  }
 ],
 "metadata": {
  "kernelspec": {
   "display_name": "tweet",
   "language": "python",
   "name": "python3"
  },
  "language_info": {
   "codemirror_mode": {
    "name": "ipython",
    "version": 3
   },
   "file_extension": ".py",
   "mimetype": "text/x-python",
   "name": "python",
   "nbconvert_exporter": "python",
   "pygments_lexer": "ipython3",
   "version": "3.9.16"
  },
  "orig_nbformat": 4,
  "vscode": {
   "interpreter": {
    "hash": "17f2718f0011a7e62961ce8cd20a40265eb4dd1214a4e3e8c28ddc4905f6ec99"
   }
  }
 },
 "nbformat": 4,
 "nbformat_minor": 2
}
