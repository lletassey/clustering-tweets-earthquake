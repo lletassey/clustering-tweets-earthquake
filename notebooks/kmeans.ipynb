{
 "cells": [
  {
   "cell_type": "code",
   "execution_count": 1,
   "metadata": {},
   "outputs": [],
   "source": [
    "import os\n",
    "import time\n",
    "import pandas as pd\n",
    "import preprocessor as p\n",
    "from sklearn.cluster import KMeans"
   ]
  },
  {
   "cell_type": "code",
   "execution_count": 2,
   "metadata": {},
   "outputs": [],
   "source": [
    "# Set data directory\n",
    "data_dir = os.path.realpath(\"../data\")\n",
    "\n",
    "# Check if file exists\n",
    "if os.path.exists(os.path.join(data_dir, \"tweets.h5\")):\n",
    "    # Read tweets from htweets5\n",
    "    tweets = pd.read_hdf(os.path.join(data_dir, \"tweets.h5\"), \"tweets\")\n",
    "else:\n",
    "    # Convert tweets to htweets5\n",
    "    # ? hdf manages large data well\n",
    "    tweets = pd.read_csv(os.path.join(data_dir, \"tweets.csv\"))\n",
    "    tweets.to_hdf(os.path.join(data_dir, \"tweets.h5\"), \"tweets\")\n",
    "\n",
    "# Remove null longitude and latitude values\n",
    "tweets = tweets[tweets[\"longitude\"].notnull()]\n",
    "\n",
    "# Constrain the area to France\n",
    "tweets = tweets.loc[\n",
    "    (tweets.latitude > 42.33278)\n",
    "    & (tweets.latitude < 51.08917)\n",
    "    & (tweets.longitude > -4.795556)\n",
    "    & (tweets.longitude < 8.230556)\n",
    "]\n",
    "\n",
    "# Set preprocessor options\n",
    "p.set_options(p.OPT.URL)\n",
    "\n",
    "# Remove URLs from the tweets\n",
    "tweets['text'] = tweets['text'].apply(lambda x: p.clean(x))\n",
    "\n",
    "# Set index to id for easy matching\n",
    "tweets.set_index('id', inplace=True, verify_integrity=False)"
   ]
  },
  {
   "cell_type": "code",
   "execution_count": 3,
   "metadata": {},
   "outputs": [
    {
     "name": "stdout",
     "output_type": "stream",
     "text": [
      "KMeans took 1.1309916973114014 seconds\n"
     ]
    }
   ],
   "source": [
    "# Convert to numpy array\n",
    "COORDS = tweets[['longitude', 'latitude']].values\n",
    "\n",
    "# Time the KMeans\n",
    "start = time.time()\n",
    "kmeans = KMeans(n_clusters=100, random_state=0).fit(COORDS)\n",
    "end = time.time()\n",
    "print(\"KMeans took {} seconds\".format(end - start))\n",
    "\n",
    "# Add cluster labels to tweets\n",
    "tweets['cluster'] = kmeans.labels_"
   ]
  },
  {
   "cell_type": "code",
   "execution_count": 4,
   "metadata": {},
   "outputs": [],
   "source": [
    "from pandas_geojson import to_geojson, write_geojson\n",
    "\n",
    "# Convert to geojson\n",
    "geojson = to_geojson(tweets, lat='latitude', lon='longitude', properties=['cluster'])\n",
    "\n",
    "# Save to file\n",
    "write_geojson(geojson, os.path.join(data_dir, \"tweets.geojson\"))"
   ]
  }
 ],
 "metadata": {
  "kernelspec": {
   "display_name": "qgis",
   "language": "python",
   "name": "python3"
  },
  "language_info": {
   "codemirror_mode": {
    "name": "ipython",
    "version": 3
   },
   "file_extension": ".py",
   "mimetype": "text/x-python",
   "name": "python",
   "nbconvert_exporter": "python",
   "pygments_lexer": "ipython3",
   "version": "3.9.15"
  },
  "orig_nbformat": 4,
  "vscode": {
   "interpreter": {
    "hash": "4e9527cbaed5ea7747e3f4313c779f2574f5d6ec203dcfdb90eedec3faa5df09"
   }
  }
 },
 "nbformat": 4,
 "nbformat_minor": 2
}
