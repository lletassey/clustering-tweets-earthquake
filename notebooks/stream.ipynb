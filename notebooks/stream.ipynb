{
 "cells": [
  {
   "cell_type": "code",
   "execution_count": null,
   "metadata": {},
   "outputs": [],
   "source": [
    "# Authenticating to Twitter via Tweepy\n",
    "import tweepy\n",
    "import keys\n",
    "\n",
    "# Authenticate to Twitter\n",
    "auth = tweepy.OAuth1UserHandler(keys.consumer_key, keys.consumer_secret, keys.access_token, keys.access_token_secret)\n",
    "\n",
    "# Create API object\n",
    "api = tweepy.API(auth, wait_on_rate_limit=True)"
   ]
  },
  {
   "cell_type": "code",
   "execution_count": null,
   "metadata": {},
   "outputs": [],
   "source": [
    "from tweetlistener import TweetListener\n",
    "\n",
    "# Create a TweetListener instance\n",
    "listener = TweetListener(keys.bearer_token)"
   ]
  },
  {
   "cell_type": "code",
   "execution_count": null,
   "metadata": {},
   "outputs": [],
   "source": [
    "listener.add_rules(tweepy.StreamRule(\"earthquake\"))"
   ]
  },
  {
   "cell_type": "code",
   "execution_count": null,
   "metadata": {},
   "outputs": [],
   "source": [
    "listener.filter(tweet_fields=[\"referenced_tweets\"])"
   ]
  }
 ],
 "metadata": {
  "kernelspec": {
   "display_name": "qgis",
   "language": "python",
   "name": "python3"
  },
  "language_info": {
   "codemirror_mode": {
    "name": "ipython",
    "version": 3
   },
   "file_extension": ".py",
   "mimetype": "text/x-python",
   "name": "python",
   "nbconvert_exporter": "python",
   "pygments_lexer": "ipython3",
   "version": "3.9.15"
  },
  "orig_nbformat": 4,
  "vscode": {
   "interpreter": {
    "hash": "4e9527cbaed5ea7747e3f4313c779f2574f5d6ec203dcfdb90eedec3faa5df09"
   }
  }
 },
 "nbformat": 4,
 "nbformat_minor": 2
}
