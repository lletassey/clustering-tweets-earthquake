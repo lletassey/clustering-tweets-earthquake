{
 "cells": [
  {
   "cell_type": "code",
   "execution_count": 1,
   "metadata": {},
   "outputs": [],
   "source": [
    "import os\n",
    "import time\n",
    "import pandas as pd\n",
    "import preprocessor as p\n",
    "from sklearn.cluster import MiniBatchKMeans"
   ]
  },
  {
   "cell_type": "code",
   "execution_count": 2,
   "metadata": {},
   "outputs": [],
   "source": [
    "# Set data directory\n",
    "data_dir = os.path.realpath(\"../data\")\n",
    "\n",
    "# Check if file exists\n",
    "if os.path.exists(os.path.join(data_dir, \"tweets.h5\")):\n",
    "    # Read tweets from htweets5\n",
    "    tweets = pd.read_hdf(os.path.join(data_dir, \"tweets.h5\"), \"tweets\")\n",
    "else:\n",
    "    # Convert tweets to htweets5\n",
    "    # ? hdf manages large data well\n",
    "    tweets = pd.read_csv(os.path.join(data_dir, \"tweets.csv\"))\n",
    "    tweets.to_hdf(os.path.join(data_dir, \"tweets.h5\"), \"tweets\")\n",
    "\n",
    "# Remove null longitude and latitude values\n",
    "tweets = tweets[tweets[\"longitude\"].notnull()]\n",
    "\n",
    "# Constrain the area to France\n",
    "tweets = tweets.loc[\n",
    "    (tweets.latitude > 42.33278)\n",
    "    & (tweets.latitude < 51.08917)\n",
    "    & (tweets.longitude > -4.795556)\n",
    "    & (tweets.longitude < 8.230556)\n",
    "]\n",
    "\n",
    "# Set preprocessor options\n",
    "p.set_options(p.OPT.URL)\n",
    "\n",
    "# Remove URLs from the tweets\n",
    "tweets['text'] = tweets['text'].apply(lambda x: p.clean(x))\n",
    "\n",
    "# Set index to id for easy matching\n",
    "tweets.set_index('id', inplace=True, verify_integrity=False)\n",
    "\n",
    "# Convert long and lat to numpy array\n",
    "COORDS = tweets[['longitude', 'latitude']].values"
   ]
  },
  {
   "cell_type": "code",
   "execution_count": 3,
   "metadata": {},
   "outputs": [],
   "source": [
    "# Timing the MiniBatchKMeans\n",
    "\n",
    "def time_minibatch(batch_size):\n",
    "    \"\"\"Time the MiniBatchKMeans algorithm.\"\"\"\n",
    "    start = time.time()\n",
    "    mini_batch = MiniBatchKMeans(n_clusters=10, batch_size=batch_size, n_init=10)\n",
    "    mini_batch.fit(COORDS)\n",
    "    end = time.time()\n",
    "    return \"batch_size: {}, time: {}\".format(batch_size, end - start)"
   ]
  },
  {
   "cell_type": "code",
   "execution_count": 4,
   "metadata": {},
   "outputs": [
    {
     "name": "stdout",
     "output_type": "stream",
     "text": [
      "batch_size: 10, time: 2.2949771881103516\n",
      "batch_size: 20, time: 0.1600053310394287\n",
      "batch_size: 30, time: 0.20699334144592285\n",
      "batch_size: 40, time: 0.17800283432006836\n"
     ]
    }
   ],
   "source": [
    "# Ignore UserWarnings\n",
    "import warnings\n",
    "warnings.filterwarnings(\"ignore\", category=UserWarning)\n",
    "\n",
    "# Test different batch sizes\n",
    "for batch_size in [10, 20, 30, 40]:\n",
    "    print(time_minibatch(batch_size))"
   ]
  }
 ],
 "metadata": {
  "kernelspec": {
   "display_name": "qgis",
   "language": "python",
   "name": "python3"
  },
  "language_info": {
   "codemirror_mode": {
    "name": "ipython",
    "version": 3
   },
   "file_extension": ".py",
   "mimetype": "text/x-python",
   "name": "python",
   "nbconvert_exporter": "python",
   "pygments_lexer": "ipython3",
   "version": "3.9.15"
  },
  "orig_nbformat": 4,
  "vscode": {
   "interpreter": {
    "hash": "4e9527cbaed5ea7747e3f4313c779f2574f5d6ec203dcfdb90eedec3faa5df09"
   }
  }
 },
 "nbformat": 4,
 "nbformat_minor": 2
}
