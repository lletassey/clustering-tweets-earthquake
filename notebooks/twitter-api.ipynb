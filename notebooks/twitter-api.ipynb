{
 "cells": [
  {
   "cell_type": "code",
   "execution_count": 2,
   "metadata": {},
   "outputs": [],
   "source": [
    "# Authenticating to Twitter via Tweepy\n",
    "import tweepy\n",
    "import keys\n",
    "\n",
    "# Authenticate to Twitter\n",
    "auth = tweepy.OAuth1UserHandler(keys.consumer_key, keys.consumer_secret, keys.access_token, keys.access_token_secret)\n",
    "\n",
    "# Create API object\n",
    "api = tweepy.API(auth, wait_on_rate_limit=True)"
   ]
  },
  {
   "cell_type": "code",
   "execution_count": null,
   "metadata": {},
   "outputs": [],
   "source": [
    "# Get a user\n",
    "user = api.get_user(screen_name='@salah_elfarissi')\n",
    "\n",
    "type(user)"
   ]
  },
  {
   "cell_type": "code",
   "execution_count": null,
   "metadata": {},
   "outputs": [],
   "source": [
    "# Get a user followers\n",
    "followers = []\n",
    "\n",
    "cursor = tweepy.Cursor(api.get_followers, screen_name='@salah_elfarissi')\n",
    "\n",
    "# Get 10 followers\n",
    "for follower in cursor.items(10):\n",
    "    followers.append(follower.screen_name)\n",
    "\n",
    "print('Followers:', ', '.join(sorted(followers, key=lambda x: x.lower())))"
   ]
  },
  {
   "cell_type": "code",
   "execution_count": null,
   "metadata": {},
   "outputs": [],
   "source": [
    "# Get a user friends\n",
    "friends = []\n",
    "\n",
    "cursor = tweepy.Cursor(api.get_friends, screen_name='@salah_elfarissi')\n",
    "\n",
    "# Get 10 friends\n",
    "for friend in cursor.items(10):\n",
    "    friends.append(friend.screen_name)\n",
    "\n",
    "print('Friends:', ', '.join(sorted(friends, key=lambda x: x.lower())))"
   ]
  },
  {
   "cell_type": "code",
   "execution_count": null,
   "metadata": {},
   "outputs": [],
   "source": [
    "# Get a user timeline\n",
    "timeline = []\n",
    "\n",
    "cursor = tweepy.Cursor(api.user_timeline, screen_name='@salah_elfarissi')\n",
    "\n",
    "# Get 10 tweets\n",
    "for tweet in cursor.items(10):\n",
    "    timeline.append(tweet.text)\n",
    "\n",
    "print('Timeline:', ', '.join(sorted(timeline, key=lambda x: x.lower())))"
   ]
  },
  {
   "cell_type": "code",
   "execution_count": null,
   "metadata": {},
   "outputs": [],
   "source": [
    "# Search for tweets using cursor\n",
    "cursor = tweepy.Cursor(api.search_tweets, q='Darkness from:nasa', count=1)\n",
    "\n",
    "# Get 10 tweets\n",
    "tweets = []\n",
    "for tweet in cursor.items(10):\n",
    "    tweets.append(tweet.text)\n",
    "\n",
    "for tweet in tweets:\n",
    "    print(tweet)"
   ]
  },
  {
   "cell_type": "code",
   "execution_count": null,
   "metadata": {},
   "outputs": [],
   "source": [
    "# Find available trends\n",
    "trends = api.available_trends()"
   ]
  },
  {
   "cell_type": "code",
   "execution_count": null,
   "metadata": {},
   "outputs": [],
   "source": [
    "# Get trends for a location\n",
    "trends = api.get_place_trends(1)"
   ]
  },
  {
   "cell_type": "code",
   "execution_count": null,
   "metadata": {},
   "outputs": [],
   "source": [
    "from operator import itemgetter\n",
    "\n",
    "trends_list = [t for t in trends[0]['trends'] if t['tweet_volume']]\n",
    "trends_list.sort(key=itemgetter('tweet_volume'), reverse=True)\n",
    "\n",
    "for trend in trends_list[:5]:\n",
    "    print(trend['name'])"
   ]
  },
  {
   "cell_type": "code",
   "execution_count": null,
   "metadata": {},
   "outputs": [],
   "source": [
    "# Trending topics in Paris\n",
    "trends = api.get_place_trends(615702)\n",
    "\n",
    "trends_list = [t for t in trends[0]['trends'] if t['tweet_volume']]\n",
    "trends_list.sort(key=itemgetter('tweet_volume'), reverse=True)\n",
    "\n",
    "for trend in trends_list[:5]:\n",
    "    print(trend['name'])"
   ]
  },
  {
   "cell_type": "code",
   "execution_count": null,
   "metadata": {},
   "outputs": [],
   "source": [
    "# Create a world cloud from trending topics in Paris\n",
    "\n",
    "topics = {}\n",
    "\n",
    "for trend in trends_list:\n",
    "    topics[trend['name']] = trend['tweet_volume']\n",
    "\n",
    "from wordcloud import WordCloud\n",
    "import matplotlib.pyplot as plt\n",
    "\n",
    "wordcloud = WordCloud(width=1600, height=900, prefer_horizontal=0.5, min_font_size=10, colormap='prism', background_color='white').generate_from_frequencies(topics)\n",
    "\n",
    "plt.figure(figsize=(12,10))\n",
    "plt.imshow(wordcloud, interpolation=\"bilinear\")\n",
    "plt.axis(\"off\")\n",
    "plt.show()"
   ]
  }
 ],
 "metadata": {
  "kernelspec": {
   "display_name": "learn-python",
   "language": "python",
   "name": "python3"
  },
  "language_info": {
   "codemirror_mode": {
    "name": "ipython",
    "version": 3
   },
   "file_extension": ".py",
   "mimetype": "text/x-python",
   "name": "python",
   "nbconvert_exporter": "python",
   "pygments_lexer": "ipython3",
   "version": "3.8.15"
  },
  "orig_nbformat": 4,
  "vscode": {
   "interpreter": {
    "hash": "f0455de5281dde2f4034228a775f8b1d94b42d44ab77bea5f35dc64b448d39e6"
   }
  }
 },
 "nbformat": 4,
 "nbformat_minor": 2
}
