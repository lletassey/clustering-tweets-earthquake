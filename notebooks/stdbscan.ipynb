{
 "cells": [
  {
   "cell_type": "code",
   "execution_count": 1,
   "metadata": {},
   "outputs": [],
   "source": [
    "import os\n",
    "import time\n",
    "import numpy as np\n",
    "import pandas as pd\n",
    "import preprocessor as p\n",
    "from st_dbscan import ST_DBSCAN\n",
    "import matplotlib.pyplot as plt"
   ]
  },
  {
   "cell_type": "code",
   "execution_count": 2,
   "metadata": {},
   "outputs": [],
   "source": [
    "# Set data directory\n",
    "data_dir = os.path.realpath(\"../data\")\n",
    "\n",
    "# Check if file exists\n",
    "if os.path.exists(os.path.join(data_dir, \"tweets.h5\")):\n",
    "    # Read tweets from htweets5\n",
    "    tweets = pd.read_hdf(os.path.join(data_dir, \"tweets.h5\"), \"tweets\")\n",
    "else:\n",
    "    # Convert tweets to htweets5\n",
    "    # ? hdf manages large data well\n",
    "    tweets = pd.read_csv(os.path.join(data_dir, \"tweets.csv\"))\n",
    "    tweets.to_hdf(os.path.join(data_dir, \"tweets.h5\"), \"tweets\")\n",
    "\n",
    "# Remove null longitude and latitude values\n",
    "tweets = tweets[tweets[\"longitude\"].notnull()]\n",
    "\n",
    "# Constrain the area to France\n",
    "tweets = tweets.loc[\n",
    "    (tweets.latitude > 42.33278)\n",
    "    & (tweets.latitude < 51.08917)\n",
    "    & (tweets.longitude > -4.795556)\n",
    "    & (tweets.longitude < 8.230556)\n",
    "]\n",
    "\n",
    "# Set preprocessor options\n",
    "p.set_options(p.OPT.URL)\n",
    "\n",
    "# Remove URLs from the tweets\n",
    "tweets['text'] = tweets['text'].apply(lambda x: p.clean(x))\n",
    "\n",
    "# Set index to id for easy matching\n",
    "tweets.set_index('id', inplace=True, verify_integrity=False)"
   ]
  },
  {
   "cell_type": "code",
   "execution_count": 3,
   "metadata": {},
   "outputs": [],
   "source": [
    "# normalize the data \n",
    "# ! Test whether normalization speeds up the algorithm\n",
    "tweets['longitude'] = (tweets['longitude'] - tweets['longitude'].min()) / (tweets['longitude'].max() - tweets['longitude'].min())\n",
    "tweets['latitude'] = (tweets['latitude'] - tweets['latitude'].min()) / (tweets['latitude'].max() - tweets['latitude'].min())\n",
    "\n",
    "# Convert to timestamp\n",
    "tweets['createdAt'] = pd.to_datetime(tweets['createdAt'])\n",
    "tweets['ts'] = tweets['createdAt'].values.astype(np.int64) // 10 ** 9\n",
    "\n",
    "# transform to numpy array\n",
    "data = tweets.loc[:, ['ts','longitude','latitude']].values"
   ]
  },
  {
   "cell_type": "code",
   "execution_count": 4,
   "metadata": {},
   "outputs": [
    {
     "name": "stdout",
     "output_type": "stream",
     "text": [
      "Time taken:  1.3490021228790283\n",
      "Number of clusters: 17\n"
     ]
    }
   ],
   "source": [
    "# Apply ST-DBSCAN\n",
    "start = time.time()\n",
    "st_dbscan = ST_DBSCAN(eps1 = 0.1, eps2 = 60*10, min_samples = 10).fit(data)\n",
    "end = time.time()\n",
    "print(\"Time taken: \", end - start)\n",
    "print(\"Number of clusters: {}\".format(len(set(st_dbscan.labels))))"
   ]
  },
  {
   "cell_type": "code",
   "execution_count": 5,
   "metadata": {},
   "outputs": [],
   "source": [
    "def plot(data, labels):\n",
    "    colors = ['#a6cee3','#1f78b4','#b2df8a','#33a02c','#fb9a99','#e31a1c','#fdbf6f','#ff7f00','#cab2d6','#6a3d9a']\n",
    "    \n",
    "    for i in range(-1, len(set(labels))):\n",
    "        if i == -1:\n",
    "            col = [0, 0, 0, 1]\n",
    "        else:\n",
    "            col = colors[i % len(colors)]\n",
    "        \n",
    "        clust = data[np.where(labels==i)]\n",
    "        plt.scatter(clust[:,0], clust[:,1], c=[col], s=1)\n",
    "    plt.show()\n",
    "\n",
    "    return None"
   ]
  },
  {
   "cell_type": "code",
   "execution_count": 6,
   "metadata": {},
   "outputs": [
    {
     "data": {
      "image/png": "[encoded data removed]",
      "text/plain": [
       "<Figure size 640x480 with 1 Axes>"
      ]
     },
     "metadata": {},
     "output_type": "display_data"
    }
   ],
   "source": [
    "plot(data[:,1:], st_dbscan.labels)"
   ]
  }
 ],
 "metadata": {
  "kernelspec": {
   "display_name": "qgis",
   "language": "python",
   "name": "python3"
  },
  "language_info": {
   "codemirror_mode": {
    "name": "ipython",
    "version": 3
   },
   "file_extension": ".py",
   "mimetype": "text/x-python",
   "name": "python",
   "nbconvert_exporter": "python",
   "pygments_lexer": "ipython3",
   "version": "3.9.15"
  },
  "orig_nbformat": 4,
  "vscode": {
   "interpreter": {
    "hash": "4e9527cbaed5ea7747e3f4313c779f2574f5d6ec203dcfdb90eedec3faa5df09"
   }
  }
 },
 "nbformat": 4,
 "nbformat_minor": 2
}
