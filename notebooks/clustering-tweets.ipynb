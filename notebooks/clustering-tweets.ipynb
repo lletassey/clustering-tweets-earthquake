{
 "cells": [
  {
   "cell_type": "code",
   "execution_count": null,
   "metadata": {},
   "outputs": [],
   "source": [
    "import os\n",
    "import folium\n",
    "import pandas as pd\n",
    "import preprocessor as p\n",
    "import matplotlib.pyplot as plt\n",
    "\n",
    "# Set data directory\n",
    "data_dir = os.path.realpath(\"../data\")\n",
    "\n",
    "# Check if file exists\n",
    "if os.path.exists(os.path.join(data_dir, \"tweets.h5\")):\n",
    "    # Read tweets from htweets5\n",
    "    tweets = pd.read_hdf(os.path.join(data_dir, \"tweets.h5\"), \"tweets\")\n",
    "else:\n",
    "    # Convert tweets to htweets5\n",
    "    tweets = pd.read_csv(os.path.join(data_dir, \"tweets.csv\"))\n",
    "    tweets.to_hdf(os.path.join(data_dir, \"tweets.h5\"), \"tweets\")\n",
    "\n",
    "# Remove null longitude and latitude values\n",
    "tweets = tweets[tweets[\"longitude\"].notnull()]\n",
    "\n",
    "# Constrain the area to France\n",
    "tweets = tweets.loc[\n",
    "    (tweets.latitude > 42.33278)\n",
    "    & (tweets.latitude < 51.08917)\n",
    "    & (tweets.longitude > -4.795556)\n",
    "    & (tweets.longitude < 8.230556)\n",
    "]\n",
    "\n",
    "# Set index to id for easy matching\n",
    "# ! Verify_integrity=False is required because of duplicate ids\n",
    "tweets.set_index('id', inplace=True, verify_integrity=False)\n",
    "\n",
    "print(f\"Size of full dataset: {len(tweets)}\")"
   ]
  },
  {
   "cell_type": "code",
   "execution_count": null,
   "metadata": {},
   "outputs": [],
   "source": [
    "# Bounding box\n",
    "bbox = (\n",
    "    tweets.longitude.min(),\n",
    "    tweets.longitude.max(),\n",
    "    tweets.latitude.min(),\n",
    "    tweets.latitude.max(),\n",
    ")\n",
    "\n",
    "# Center of the bounding box\n",
    "center = (bbox[2] + (bbox[3] - bbox[2]) / 2, bbox[0] + (bbox[1] - bbox[0]) / 2)"
   ]
  },
  {
   "cell_type": "code",
   "execution_count": null,
   "metadata": {},
   "outputs": [],
   "source": [
    "# Map points with folium\n",
    "map = folium.Map(location=[center[0], center[1]], zoom_start=6)\n",
    "\n",
    "for _, row in tweets.iterrows():\n",
    "    folium.CircleMarker(\n",
    "        location=[row['latitude'], row['longitude']],\n",
    "        radius=1,\n",
    "        color='red',\n",
    "        fill=True,\n",
    "        fill_color='red',\n",
    "        fill_opacity=0.5,\n",
    "    ).add_to(map)"
   ]
  },
  {
   "cell_type": "code",
   "execution_count": null,
   "metadata": {},
   "outputs": [],
   "source": [
    "map"
   ]
  },
  {
   "cell_type": "code",
   "execution_count": null,
   "metadata": {},
   "outputs": [],
   "source": [
    "fig, ax = plt.subplots(figsize=(8, 7))\n",
    "ax.scatter(tweets.longitude, tweets.latitude, zorder=1, alpha=0.2, c=\"y\", s=10)\n",
    "ax.set_xlim(bbox[0], bbox[1])\n",
    "ax.set_ylim(bbox[2], bbox[3])"
   ]
  },
  {
   "cell_type": "code",
   "execution_count": null,
   "metadata": {},
   "outputs": [],
   "source": [
    "# Display the first 3 rows of the data\n",
    "tweets.head(3)"
   ]
  },
  {
   "cell_type": "code",
   "execution_count": null,
   "metadata": {},
   "outputs": [],
   "source": [
    "# Min and max dates\n",
    "min_date = tweets['createdAt'].min()\n",
    "max_date = tweets['createdAt'].max()\n",
    "print('Min date: ', min_date)\n",
    "print('Max date: ', max_date)\n",
    "\n",
    "# Duration of the data\n",
    "duration = pd.Timestamp(max_date) - pd.Timestamp(min_date)\n",
    "print('Duration: ', duration)"
   ]
  },
  {
   "cell_type": "code",
   "execution_count": null,
   "metadata": {},
   "outputs": [],
   "source": [
    "# Set preprocessor options\n",
    "p.set_options(p.OPT.URL)\n",
    "\n",
    "# Remove URLs from the tweets\n",
    "tweets['text'] = tweets['text'].apply(lambda x: p.clean(x))"
   ]
  },
  {
   "cell_type": "code",
   "execution_count": null,
   "metadata": {},
   "outputs": [],
   "source": [
    "# Remove null longitude and latitude values\n",
    "tweets = tweets[tweets['longitude'].notnull()]"
   ]
  }
 ],
 "metadata": {
  "kernelspec": {
   "display_name": "Python 3 (ipykernel)",
   "language": "python",
   "name": "python3"
  },
  "language_info": {
   "codemirror_mode": {
    "name": "ipython",
    "version": 3
   },
   "file_extension": ".py",
   "mimetype": "text/x-python",
   "name": "python",
   "nbconvert_exporter": "python",
   "pygments_lexer": "ipython3",
   "version": "3.9.15"
  },
  "vscode": {
   "interpreter": {
    "hash": "ffa05d27497f32ad06de3833e49252d26dab9799b3948f7419665675c7414e92"
   }
  }
 },
 "nbformat": 4,
 "nbformat_minor": 4
}
